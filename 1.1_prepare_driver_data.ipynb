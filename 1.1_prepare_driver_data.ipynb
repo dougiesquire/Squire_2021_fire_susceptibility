{
 "cells": [
  {
   "cell_type": "markdown",
   "id": "31f2a708-4051-4786-a51e-26da5a9edaf0",
   "metadata": {},
   "source": [
    "# Prepare NINO 3.4, DMI and SAM data from raw forecast/historical data and save intermediate files for further processing\n",
    "\n",
    "### Time taken: ~ 30 mins\n",
    "\n",
    "------"
   ]
  },
  {
   "cell_type": "code",
   "execution_count": null,
   "id": "c307f76c-caf7-41b8-8c0a-1b149af2d05d",
   "metadata": {},
   "outputs": [],
   "source": [
    "import glob\n",
    "\n",
    "import numpy as np\n",
    "import xarray as xr\n",
    "\n",
    "import myfuncs as my\n",
    "\n",
    "from dask.distributed import Client\n",
    "from dask_jobqueue import PBSCluster\n",
    "\n",
    "import warnings\n",
    "warnings.filterwarnings(\"ignore\")"
   ]
  },
  {
   "cell_type": "code",
   "execution_count": 2,
   "id": "84fddb91-d634-4964-9fa6-eda865210ee6",
   "metadata": {},
   "outputs": [],
   "source": [
    "walltime = '02:00:00'\n",
    "cores = 48\n",
    "memory = '192GB'\n",
    "cluster = PBSCluster(walltime=str(walltime), cores=cores, memory=str(memory),\n",
    "                     job_extra=['-l ncpus='+str(cores),\n",
    "                                '-l mem='+str(memory),\n",
    "                                '-P v14',\n",
    "                                '-l jobfs=100GB',\n",
    "                                '-l storage=gdata/xv83+gdata/v14+scratch/v14'],\n",
    "                     local_directory='$PBS_JOBFS',\n",
    "                     # env_extra=['export MALLOC_TRIM_THRESHOLD_=\"0\"'],\n",
    "                     header_skip=[\"select\"])"
   ]
  },
  {
   "cell_type": "code",
   "execution_count": 3,
   "id": "de7585a8-4c10-41d5-878c-72a0cf3575f2",
   "metadata": {},
   "outputs": [
    {
     "data": {
      "text/html": [
       "\n",
       "            <div>\n",
       "                <div style=\"\n",
       "                    width: 24px;\n",
       "                    height: 24px;\n",
       "                    background-color: #e1e1e1;\n",
       "                    border: 3px solid #9D9D9D;\n",
       "                    border-radius: 5px;\n",
       "                    position: absolute;\"> </div>\n",
       "                <div style=\"margin-left: 48px;\">\n",
       "                    <h3 style=\"margin-bottom: 0px;\">Client</h3>\n",
       "                    <p style=\"color: #9D9D9D; margin-bottom: 0px;\">Client-3c3d6df8-fa84-11eb-9c35-54b2038783e8</p>\n",
       "                    <table style=\"width: 100%; text-align: left;\">\n",
       "                    \n",
       "                <tr>\n",
       "                    <td style=\"text-align: left;\"><strong>Connection method:</strong> Cluster object</td>\n",
       "                    <td style=\"text-align: left;\"><strong>Cluster type:</strong> PBSCluster</td>\n",
       "                </tr>\n",
       "                \n",
       "                <tr>\n",
       "                    <td style=\"text-align: left;\">\n",
       "                        <strong>Dashboard: </strong>\n",
       "                        <a href=\"http://10.6.62.47:8787/status\">http://10.6.62.47:8787/status</a>\n",
       "                    </td>\n",
       "                    <td style=\"text-align: left;\"></td>\n",
       "                </tr>\n",
       "                \n",
       "                    </table>\n",
       "                    \n",
       "                <details>\n",
       "                <summary style=\"margin-bottom: 20px;\"><h3 style=\"display: inline;\">Cluster Info</h3></summary>\n",
       "                \n",
       "            <div class=\"jp-RenderedHTMLCommon jp-RenderedHTML jp-mod-trusted jp-OutputArea-output\">\n",
       "                <div style=\"\n",
       "                    width: 24px;\n",
       "                    height: 24px;\n",
       "                    background-color: #e1e1e1;\n",
       "                    border: 3px solid #9D9D9D;\n",
       "                    border-radius: 5px;\n",
       "                    position: absolute;\"> </div>\n",
       "                <div style=\"margin-left: 48px;\">\n",
       "                    <h3 style=\"margin-bottom: 0px; margin-top: 0px;\">PBSCluster</h3>\n",
       "                    <p style=\"color: #9D9D9D; margin-bottom: 0px;\">af83ebee</p>\n",
       "                    <table style=\"width: 100%; text-align: left;\">\n",
       "                    \n",
       "            <tr>\n",
       "                <td style=\"text-align: left;\">\n",
       "                    <strong>Dashboard:</strong> <a href=\"http://10.6.62.47:8787/status\">http://10.6.62.47:8787/status</a>\n",
       "                </td>\n",
       "                <td style=\"text-align: left;\"><strong>Workers:</strong> 0</td>\n",
       "            </tr>\n",
       "            <tr>\n",
       "                <td style=\"text-align: left;\">\n",
       "                    <strong>Total threads:</strong>\n",
       "                    0\n",
       "                </td>\n",
       "                <td style=\"text-align: left;\">\n",
       "                    <strong>Total memory:</strong>\n",
       "                    0 B\n",
       "                </td>\n",
       "            </tr>\n",
       "        \n",
       "                    </table>\n",
       "                    <details>\n",
       "                    <summary style=\"margin-bottom: 20px;\"><h3 style=\"display: inline;\">Scheduler Info</h3></summary>\n",
       "                    \n",
       "        <div style=\"\">\n",
       "            \n",
       "            <div>\n",
       "                <div style=\"\n",
       "                    width: 24px;\n",
       "                    height: 24px;\n",
       "                    background-color: #FFF7E5;\n",
       "                    border: 3px solid #FF6132;\n",
       "                    border-radius: 5px;\n",
       "                    position: absolute;\"> </div>\n",
       "                <div style=\"margin-left: 48px;\">\n",
       "                    <h3 style=\"margin-bottom: 0px;\">Scheduler</h3>\n",
       "                    <p style=\"color: #9D9D9D; margin-bottom: 0px;\">Scheduler-c95bd03c-bff1-4767-af43-7c788595dd03</p>\n",
       "                    <table style=\"width: 100%; text-align: left;\">\n",
       "                        <tr>\n",
       "                            <td style=\"text-align: left;\"><strong>Comm:</strong> tcp://10.6.62.47:37287</td>\n",
       "                            <td style=\"text-align: left;\"><strong>Workers:</strong> 0</td>\n",
       "                        </tr>\n",
       "                        <tr>\n",
       "                            <td style=\"text-align: left;\">\n",
       "                                <strong>Dashboard:</strong> <a href=\"http://10.6.62.47:8787/status\">http://10.6.62.47:8787/status</a>\n",
       "                            </td>\n",
       "                            <td style=\"text-align: left;\">\n",
       "                                <strong>Total threads:</strong>\n",
       "                                0\n",
       "                            </td>\n",
       "                        </tr>\n",
       "                        <tr>\n",
       "                            <td style=\"text-align: left;\">\n",
       "                                <strong>Started:</strong>\n",
       "                                Just now\n",
       "                            </td>\n",
       "                            <td style=\"text-align: left;\">\n",
       "                                <strong>Total memory:</strong>\n",
       "                                0 B\n",
       "                            </td>\n",
       "                        </tr>\n",
       "                    </table>\n",
       "                </div>\n",
       "            </div>\n",
       "        \n",
       "            <details style=\"margin-left: 48px;\">\n",
       "            <summary style=\"margin-bottom: 20px;\"><h3 style=\"display: inline;\">Workers</h3></summary>\n",
       "            \n",
       "            </details>\n",
       "        </div>\n",
       "        \n",
       "                    </details>\n",
       "                </div>\n",
       "            </div>\n",
       "        \n",
       "                </details>\n",
       "                \n",
       "                </div>\n",
       "            </div>\n",
       "        "
      ],
      "text/plain": [
       "<Client: 'tcp://10.6.62.47:37287' processes=0 threads=0, memory=0 B>"
      ]
     },
     "execution_count": 3,
     "metadata": {},
     "output_type": "execute_result"
    }
   ],
   "source": [
    "cluster.scale(jobs=1)\n",
    "client = Client(cluster)\n",
    "client"
   ]
  },
  {
   "cell_type": "markdown",
   "id": "f6d18036-e98e-4079-80f9-5a770293ea44",
   "metadata": {},
   "source": [
    "--------\n",
    "# Parameters"
   ]
  },
  {
   "cell_type": "code",
   "execution_count": 2,
   "id": "ce670499-ebab-479c-acc4-5261a3352ac5",
   "metadata": {},
   "outputs": [],
   "source": [
    "period = slice('1990-01-01','2020-12-31')\n",
    "SON = [9,10,11]\n",
    "SOND = [9,10,11,12]\n",
    "\n",
    "clobber = False # If False, read intermediate datasets from disk if they exist"
   ]
  },
  {
   "cell_type": "markdown",
   "id": "79fca136-27f1-48e2-a8c9-e2ba71aee759",
   "metadata": {},
   "source": [
    "--------\n",
    "# Prepare historical NINO3.4 and DMI values from HadISST"
   ]
  },
  {
   "cell_type": "code",
   "execution_count": 3,
   "id": "255deec6-dc41-479a-af6f-27ceee156f7b",
   "metadata": {},
   "outputs": [],
   "source": [
    "data_path = '/g/data/xv83/reanalyses/HadISST'\n",
    "\n",
    "had_sst = my.open_zarr(\n",
    "    f'{data_path}/ocean_month.zarr', \n",
    "    variables=['sst'])['sst']"
   ]
  },
  {
   "cell_type": "markdown",
   "id": "5a7f0ee1-d2be-4c72-8148-9787b7e08817",
   "metadata": {},
   "source": [
    "### Process SOND Nino3.4"
   ]
  },
  {
   "cell_type": "code",
   "execution_count": 4,
   "id": "966e901e-bc79-495e-b6a2-c86c49238d36",
   "metadata": {},
   "outputs": [],
   "source": [
    "had_nino34_full = my.calc_nino34(\n",
    "    had_sst, lat_dim='latitude', lon_dim='longitude').rename('nino34')\n",
    "had_nino34_full = had_nino34_full.chunk({'time': -1})\n",
    "had_nino34_full = my.to_zarr(\n",
    "    had_nino34_full, f'data/HadISST_Nino34-full.zarr', clobber=clobber)\n",
    "\n",
    "had_nino34_SOND_full = my.resample_months_in_year(\n",
    "    had_nino34_full, SOND, method='mean').rename('nino34_SOND')\n",
    "had_nino34_SOND_clim = had_nino34_SOND_full.sel(\n",
    "    time=period).groupby('time.month').mean('time')\n",
    "had_nino34_SOND = had_nino34_SOND_full.groupby('time.month') - had_nino34_SOND_clim\n",
    "had_nino34_SOND = my.to_zarr(\n",
    "    had_nino34_SOND, f'data/HadISST_Nino34-SOND.zarr', clobber=clobber)"
   ]
  },
  {
   "cell_type": "markdown",
   "id": "4c8170e4-95bb-4b05-acc1-acd1bd3deea8",
   "metadata": {},
   "source": [
    "## Figure for reviewer: delete me"
   ]
  },
  {
   "cell_type": "code",
   "execution_count": 22,
   "id": "fb159c25-7c72-46af-aa37-c74d124a47dc",
   "metadata": {},
   "outputs": [
    {
     "name": "stdout",
     "output_type": "stream",
     "text": [
      "Mann_Kendall_Test(trend='no trend', h=False, p=0.8984338269926528, z=0.12764006014960397, Tau=0.002233676975945017, s=2366.0, var_s=343311451.3333333, slope=6.246841784983862e-06, intercept=-0.1685088489439859)\n"
     ]
    },
    {
     "data": {
      "image/png": "[encoded data removed]",
      "text/plain": [
       "<Figure size 424.8x144 with 1 Axes>"
      ]
     },
     "metadata": {
      "needs_background": "light"
     },
     "output_type": "display_data"
    }
   ],
   "source": [
    "import pymannkendall as mk\n",
    "import matplotlib.pyplot as plt\n",
    "from matplotlib import cm\n",
    "\n",
    "test_period=slice('1900',None)\n",
    "\n",
    "had_nino34_clim = had_nino34_full.sel(\n",
    "    time=period).groupby('time.month').mean('time')\n",
    "had_nino34 = had_nino34_full.sel(time=test_period).groupby('time.month') - had_nino34_clim\n",
    "\n",
    "ax_color = 'k'\n",
    "fontsize = 8\n",
    "rc_context = {'axes.edgecolor':ax_color, \n",
    "              'xtick.color':ax_color, \n",
    "              'ytick.color':ax_color,\n",
    "              'axes.labelcolor': ax_color,\n",
    "              'text.color': ax_color,\n",
    "              'font.size': fontsize}\n",
    "\n",
    "with plt.rc_context(rc_context):\n",
    "    fig = plt.figure(constrained_layout=True, figsize=(5.9,2.0))\n",
    "\n",
    "    col = cm.get_cmap('magma')(0.3)\n",
    "\n",
    "    ax = fig.add_subplot(111)\n",
    "    ax.grid(zorder=-1, linewidth=0.5)\n",
    "    ax.plot(had_nino34.time, had_nino34, \n",
    "            linestyle='-', color=col, linewidth=1)\n",
    "\n",
    "    ax.set_ylabel('Nino 3.4');\n",
    "    \n",
    "print(mk.original_test(had_nino34.values))\n",
    "    \n",
    "fig.savefig(f'./figures/nino34_record.pdf', format='pdf',\n",
    "            bbox_inches='tight')"
   ]
  },
  {
   "cell_type": "markdown",
   "id": "95a57da7-ed5e-4b5e-bd20-f704df07cc66",
   "metadata": {},
   "source": [
    "### Process SON DMI"
   ]
  },
  {
   "cell_type": "code",
   "execution_count": 11,
   "id": "29464aae-ad2f-4f84-a451-582fa9134235",
   "metadata": {},
   "outputs": [],
   "source": [
    "had_dmi_full = my.calc_dmi(\n",
    "    had_sst, lat_dim='latitude', lon_dim='longitude').rename('dmi')\n",
    "had_dmi_full = had_dmi_full.chunk({'time': -1})\n",
    "had_dmi_full = my.to_zarr(\n",
    "    had_dmi_full, f'data/HadISST_DMI-full.zarr', clobber=clobber)\n",
    "\n",
    "had_dmi_SON_full =  my.resample_months_in_year(\n",
    "    had_dmi_full, SON, method='mean').rename('dmi_SON')\n",
    "had_dmi_SON_clim = had_dmi_SON_full.sel(\n",
    "    time=period).groupby('time.month').mean('time')\n",
    "had_dmi_SON = had_dmi_SON_full.groupby('time.month') - had_dmi_SON_clim\n",
    "had_dmi_SON = my.to_zarr(\n",
    "    had_dmi_SON, f'data/HadISST_DMI-SON.zarr', clobber=clobber)"
   ]
  },
  {
   "cell_type": "markdown",
   "id": "5986d16e-e936-4f46-8c64-3acd104d1248",
   "metadata": {},
   "source": [
    "--------\n",
    "# Prepare historical SOND SAM values from JRA-55"
   ]
  },
  {
   "cell_type": "code",
   "execution_count": 14,
   "id": "6153c411-9f4d-4728-8f4b-6601c5dd4a72",
   "metadata": {},
   "outputs": [],
   "source": [
    "data_path = '/g/data/xv83/reanalyses/JRA55'"
   ]
  },
  {
   "cell_type": "code",
   "execution_count": 16,
   "id": "12d7c1d7-6f9d-4289-a16f-d72299880acc",
   "metadata": {},
   "outputs": [],
   "source": [
    "jra_slp = my.open_zarr(\n",
    "    f'{data_path}/surface_month.zarr', \n",
    "    variables=['PRMSL_GDS0_MSL'],\n",
    "    open_zarr_kwargs={'use_cftime': True}).rename(\n",
    "    {'initial_time0_hours': 'time'})['PRMSL_GDS0_MSL']\n",
    "\n",
    "jra_sam = my.calc_sam(\n",
    "    jra_slp, period, lat_dim='g0_lat_1', lon_dim='g0_lon_2')\n",
    "jra_sam = jra_sam.chunk({'time': -1})\n",
    "jra_sam = my.to_zarr(\n",
    "    jra_sam, f'data/JRA-55_SAM.zarr', clobber=clobber)\n",
    "\n",
    "jra_sam_SOND = my.resample_months_in_year(\n",
    "    jra_sam, SOND, method='mean').rename('sam_SOND')\n",
    "jra_sam_SOND = my.to_zarr(\n",
    "    jra_sam_SOND, f'data/JRA-55_SAM-SOND.zarr', clobber=clobber)"
   ]
  },
  {
   "cell_type": "markdown",
   "id": "7659a178-3531-4621-8828-2d9c0a3c3847",
   "metadata": {},
   "source": [
    "--------\n",
    "# Prepare CAFE-f6 forecast data\n",
    "Don't worry about masking members that were run with reduced timestep here\n",
    "since only use these data conditioned on the FFDI and DI data, which have these members dropped already"
   ]
  },
  {
   "cell_type": "markdown",
   "id": "f6504f62-f294-46fd-a0b3-f4eb6007ecd2",
   "metadata": {},
   "source": [
    "### Process SON sst"
   ]
  },
  {
   "cell_type": "code",
   "execution_count": 3,
   "id": "d63a1efe-c383-4082-bd68-25eb66478da2",
   "metadata": {
    "tags": []
   },
   "outputs": [],
   "source": [
    "def preprocess(ds):\n",
    "    return ds.drop(['average_DT', 'average_T1', 'average_T2', 'geolat_t', 'geolon_t', 'area_t'])\n",
    "\n",
    "fcst_paths = sorted(\n",
    "    glob.glob('/g/data/xv83/dcfp/CAFE-f6/c5-d60-pX-f6*/ocean_month.zarr.zip')\n",
    ")[-32:]\n",
    "\n",
    "f6_ocean_stacked = my.open_zarr_forecasts(\n",
    "    fcst_paths,\n",
    "    variables=['sst'],\n",
    "    convert_time_to_lead=True,\n",
    "    preprocess=preprocess)"
   ]
  },
  {
   "cell_type": "code",
   "execution_count": 4,
   "id": "469adc35-f79c-4e8f-aa74-71c3f94bc4c3",
   "metadata": {
    "tags": []
   },
   "outputs": [],
   "source": [
    "f6_sst_stacked = f6_ocean_stacked['sst']\n",
    "f6_sst_stacked = my.to_zarr(\n",
    "    f6_sst_stacked, f'data/CAFE-f6_sst-full-stacked.zarr', clobber=clobber)\n",
    "\n",
    "f6_sst = my.reindex_forecast(f6_sst_stacked)\n",
    "f6_sst_SON = my.resample_months_in_year(\n",
    "    f6_sst, SON, method='mean').rename('sst_SON')\n",
    "f6_sst_SON = my.to_zarr(\n",
    "    f6_sst_SON, f'data/CAFE-f6_sst-SON-full.zarr', clobber=clobber)\n",
    "\n",
    "f6_sst_SOND = my.resample_months_in_year(\n",
    "    f6_sst, SOND, method='mean').rename('sst_SOND')\n",
    "f6_sst_SOND = my.to_zarr(\n",
    "    f6_sst_SOND, f'data/CAFE-f6_sst-SOND-full.zarr', clobber=clobber)"
   ]
  },
  {
   "cell_type": "markdown",
   "id": "cca28377-bcf2-4cfd-bebf-f0fe45050f74",
   "metadata": {},
   "source": [
    "### Process SOND NINO 3.4"
   ]
  },
  {
   "cell_type": "code",
   "execution_count": 20,
   "id": "15f3f666-dbbf-42de-906c-32ebbd9be6a6",
   "metadata": {},
   "outputs": [],
   "source": [
    "f6_nino34_SOND_full = my.calc_nino34(\n",
    "    f6_sst_SOND, lat_dim='yt_ocean', lon_dim='xt_ocean').rename('nino34_SOND')\n",
    "f6_nino34_SOND_full = f6_nino34_SOND_full.chunk({'init_date': -1, 'time': -1})\n",
    "f6_nino34_SOND_full = my.to_zarr(\n",
    "    f6_nino34_SOND_full, f'data/CAFE-f6_Nino34-SOND-full.zarr', clobber=clobber)"
   ]
  },
  {
   "cell_type": "markdown",
   "id": "08834e3b-7c88-4bcf-a9d6-19b8633bfa77",
   "metadata": {},
   "source": [
    "### Process SON DMI"
   ]
  },
  {
   "cell_type": "code",
   "execution_count": 21,
   "id": "dbdc9e3b-fd11-4e60-94a7-7bc21d373768",
   "metadata": {},
   "outputs": [],
   "source": [
    "f6_dmi_SON_full = my.calc_dmi(\n",
    "    f6_sst_SON, lat_dim='yt_ocean', lon_dim='xt_ocean').rename('dmi_SON')\n",
    "f6_dmi_SON_full = f6_dmi_SON_full.chunk({'init_date': -1, 'time': -1})\n",
    "f6_dmi_SON_full = my.to_zarr(\n",
    "    f6_dmi_SON_full, f'data/CAFE-f6_DMI-SON-full.zarr', clobber=clobber)"
   ]
  },
  {
   "cell_type": "markdown",
   "id": "c7e2b816-cb88-4ed0-b437-832c8fefc94e",
   "metadata": {},
   "source": [
    "### Process SOND 500 hPa Geopotential height"
   ]
  },
  {
   "cell_type": "code",
   "execution_count": 22,
   "id": "c5d3e9b5-0213-4d6a-af2f-93e2937668c6",
   "metadata": {},
   "outputs": [],
   "source": [
    "def preprocess(ds):\n",
    "    return my.truncate_latitudes(ds).drop(\n",
    "        ['average_DT', 'average_T1', 'average_T2', 'area', 'zsurf'])\n",
    "\n",
    "fcst_paths = sorted(\n",
    "    glob.glob('/g/data/xv83/dcfp/CAFE-f6/c5-d60-pX-f6*/atmos_isobaric_month.zarr.zip')\n",
    ")[-32:]\n",
    "\n",
    "f6_atmos = my.open_zarr_forecasts(\n",
    "    fcst_paths,\n",
    "    variables=['h500', 'slp'],\n",
    "    convert_time_to_lead=False,\n",
    "    preprocess=preprocess,\n",
    "    open_zarr_kwargs={'chunks':{'time': 12}})"
   ]
  },
  {
   "cell_type": "code",
   "execution_count": 23,
   "id": "0facc502-82c0-4d57-b4b9-6a44b2dac623",
   "metadata": {},
   "outputs": [],
   "source": [
    "f6_h500_SOND_full = my.resample_months_in_year(\n",
    "    f6_atmos['h500'], SOND, method='mean').rename('h500_SOND')\n",
    "f6_h500_SOND_full = my.to_zarr(\n",
    "    f6_h500_SOND_full, f'data/CAFE-f6_h500-SOND-full.zarr', clobber=clobber)"
   ]
  },
  {
   "cell_type": "markdown",
   "id": "779650f8-687d-4789-9418-617161dbdfb2",
   "metadata": {},
   "source": [
    "### Process -45 and -65 latitude slp for SAM so can bias correct later"
   ]
  },
  {
   "cell_type": "code",
   "execution_count": 22,
   "id": "787511de-35d1-42dd-bb13-5c252ba61f64",
   "metadata": {},
   "outputs": [],
   "source": [
    "f6_slp = f6_atmos['slp'].interp({'lat': [-40, -65]})\n",
    "f6_slp = f6_slp.chunk({'time': -1})\n",
    "f6_slp = my.to_zarr(\n",
    "    f6_slp, f'data/CAFE-f6_slp.zarr', clobber=clobber)"
   ]
  },
  {
   "cell_type": "markdown",
   "id": "74fdf016-62f3-46a8-ae7d-6ae5e5fff7c7",
   "metadata": {},
   "source": [
    "--------\n",
    "# Prepare CAFE-f5 forecast data"
   ]
  },
  {
   "cell_type": "markdown",
   "id": "4409d641-c05e-4883-9a1f-3bcc4b997dc5",
   "metadata": {},
   "source": [
    "### Process SON sst"
   ]
  },
  {
   "cell_type": "code",
   "execution_count": 24,
   "id": "45ed5713-bbb7-43f7-976a-80c1013251d9",
   "metadata": {
    "tags": []
   },
   "outputs": [],
   "source": [
    "def preprocess(ds):\n",
    "    return ds.drop(['average_DT', 'average_T1', 'average_T2', 'geolat_t', 'geolon_t', 'area_t'])\n",
    "\n",
    "fcst_paths_MAY = sorted(\n",
    "    glob.glob('/g/data/xv83/dcfp/CAFE-f5/MAY/c5-d60-pX-f5*/ocean_month.zarr.zip')\n",
    ")\n",
    "fcst_path_NOV = '/g/data/xv83/dcfp/CAFE-f5/NOV/ocean_month.zarr.zip'\n",
    "\n",
    "f5_ocean_MAY_stacked = my.open_zarr_forecasts(\n",
    "    fcst_paths_MAY,\n",
    "    variables=['sst'],\n",
    "    convert_time_to_lead=True,\n",
    "    preprocess=preprocess)\n",
    "\n",
    "f5_ocean_NOV_stacked = my.open_zarr(\n",
    "    fcst_path_NOV, \n",
    "    variables=['sst'],\n",
    "    preprocess=preprocess)\n",
    "\n",
    "f6_ocean_append = f6_ocean_stacked.sel(\n",
    "    init_date=slice('2005', None), \n",
    "    ensemble=range(1,11))\n",
    "\n",
    "f5_ocean_stacked = xr.concat(\n",
    "    [f5_ocean_MAY_stacked.sel(init_date=slice('1980', '2004')).chunk({'init_date': 1}), \n",
    "     f5_ocean_NOV_stacked.sel(init_date=slice('1980', '2004')).chunk({'init_date': 1}),\n",
    "     f6_ocean_append.chunk({'init_date': 1})],\n",
    "    dim='init_date', coords='minimal', compat='override').sortby('init_date')"
   ]
  },
  {
   "cell_type": "code",
   "execution_count": 28,
   "id": "2deac260-321d-4f36-9d5c-58d1cdce6fa4",
   "metadata": {
    "tags": []
   },
   "outputs": [],
   "source": [
    "f5_sst_stacked = f5_ocean_stacked['sst']\n",
    "f5_sst_stacked = my.to_zarr(\n",
    "    f5_sst_stacked, f'data/CAFE-f5_sst-full-stacked.zarr', clobber=clobber)\n",
    "\n",
    "f5_sst = my.reindex_forecast(f5_sst_stacked)\n",
    "f5_sst_SON = my.resample_months_in_year(\n",
    "    f5_sst, SON, method='mean').rename('sst_SON')\n",
    "f5_sst_SON = my.to_zarr(\n",
    "    f5_sst_SON, f'data/CAFE-f5_sst-SON-full.zarr', clobber=clobber)\n",
    "\n",
    "f5_sst_SOND = my.resample_months_in_year(\n",
    "    f5_sst, SOND, method='mean').rename('sst_SOND')\n",
    "f5_sst_SOND = my.to_zarr(\n",
    "    f5_sst_SOND, f'data/CAFE-f5_sst-SOND-full.zarr', clobber=clobber)"
   ]
  },
  {
   "cell_type": "markdown",
   "id": "32e64111-3e7f-4380-aaf3-7a82ebe704cf",
   "metadata": {},
   "source": [
    "### Process SOND NINO 3.4"
   ]
  },
  {
   "cell_type": "code",
   "execution_count": 29,
   "id": "6611f22c-f131-42c0-8a64-126b1977bc1a",
   "metadata": {},
   "outputs": [],
   "source": [
    "f5_nino34_SOND_full = my.calc_nino34(\n",
    "    f5_sst_SOND, lat_dim='yt_ocean', lon_dim='xt_ocean').rename('nino34_SOND')\n",
    "f5_nino34_SOND_full = f5_nino34_SOND_full.chunk({'init_date': -1, 'time': -1})\n",
    "f5_nino34_SOND_full = my.to_zarr(\n",
    "    f5_nino34_SOND_full, f'data/CAFE-f5_Nino34-SOND-full.zarr', clobber=clobber)"
   ]
  },
  {
   "cell_type": "markdown",
   "id": "271e9021-cdd4-48df-9802-0ab4efb5fa80",
   "metadata": {},
   "source": [
    "### Process SON DMI"
   ]
  },
  {
   "cell_type": "code",
   "execution_count": 30,
   "id": "4a6e68c1-dca5-409f-a3e4-14d013c1bfc5",
   "metadata": {},
   "outputs": [],
   "source": [
    "f5_dmi_SON_full = my.calc_dmi(\n",
    "    f5_sst_SON, lat_dim='yt_ocean', lon_dim='xt_ocean').rename('dmi_SON')\n",
    "f5_dmi_SON_full = f5_dmi_SON_full.chunk({'init_date': -1, 'time': -1})\n",
    "f5_dmi_SON_full = my.to_zarr(\n",
    "    f5_dmi_SON_full, f'data/CAFE-f5_DMI-SON-full.zarr', clobber=clobber)"
   ]
  },
  {
   "cell_type": "markdown",
   "id": "97f646af-a12d-4caa-98d4-7256335ea08e",
   "metadata": {},
   "source": [
    "### Process SOND 500 hPa Geopotential height"
   ]
  },
  {
   "cell_type": "code",
   "execution_count": 31,
   "id": "79e10439-9d4a-4b67-ac24-0698a91493e6",
   "metadata": {},
   "outputs": [],
   "source": [
    "fcst_paths_MAY = sorted(\n",
    "    glob.glob('/g/data/xv83/dcfp/CAFE-f5/MAY/c5-d60-pX-f5*/atmos_isobaric_month.zarr.zip')\n",
    ")\n",
    "fcst_path_NOV = '/g/data/xv83/dcfp/CAFE-f5/NOV/atmos_isobaric_month.zarr.zip'"
   ]
  },
  {
   "cell_type": "code",
   "execution_count": 32,
   "id": "58a0a96b-c194-42ce-a3f4-1ece6242f015",
   "metadata": {
    "tags": []
   },
   "outputs": [],
   "source": [
    "def preprocess(ds):\n",
    "    return my.truncate_latitudes(ds).drop(\n",
    "        ['average_DT', 'average_T1', 'average_T2'])\n",
    "\n",
    "f5_atmos_MAY_stacked = my.open_zarr_forecasts(\n",
    "    fcst_paths_MAY,\n",
    "    variables=['h500', 'slp'],\n",
    "    convert_time_to_lead=True,\n",
    "    preprocess=preprocess)\n",
    "\n",
    "f5_atmos_NOV_stacked = my.open_zarr(\n",
    "    fcst_path_NOV, \n",
    "    variables=['h500', 'slp'],\n",
    "    preprocess=preprocess)\n",
    "\n",
    "f6_atmos_stacked = f6_atmos.apply(my.reindex_forecast)\n",
    "f6_atmos_append = f6_atmos_stacked.sel(\n",
    "    init_date=slice('2005', None), \n",
    "    ensemble=range(1,11))\n",
    "\n",
    "f5_atmos_stacked = xr.concat(\n",
    "    [f5_atmos_MAY_stacked.sel(init_date=slice('1980', '2004')).chunk({'init_date': 1}), \n",
    "     f5_atmos_NOV_stacked.sel(init_date=slice('1980', '2004')).chunk({'init_date': 1}),\n",
    "     f6_atmos_append.chunk({'init_date': 1})],\n",
    "    dim='init_date', coords='minimal', compat='override').sortby('init_date')"
   ]
  },
  {
   "cell_type": "code",
   "execution_count": 33,
   "id": "32faddd9-9f0d-43c2-8b7f-df2d568b9737",
   "metadata": {},
   "outputs": [],
   "source": [
    "f5_h500 = my.reindex_forecast(f5_atmos_stacked['h500'])\n",
    "f5_h500_SOND_full = my.resample_months_in_year(\n",
    "    f5_h500, SOND, method='mean').rename('h500_SOND')\n",
    "f5_h500_SOND_full = f5_h500_SOND_full.chunk({'time': -1})\n",
    "f5_h500_SOND_full = my.to_zarr(\n",
    "    f5_h500_SOND_full, f'data/CAFE-f5_h500-SOND-full.zarr', clobber=clobber)"
   ]
  },
  {
   "cell_type": "markdown",
   "id": "ad87804f-58b7-4e13-bb40-7f0e630b247b",
   "metadata": {},
   "source": [
    "### Process -45 and -65 latitude slp for SAM so can bias correct later"
   ]
  },
  {
   "cell_type": "code",
   "execution_count": 30,
   "id": "ffb0040f-eea7-4ed4-850c-73629963676f",
   "metadata": {},
   "outputs": [],
   "source": [
    "f5_slp = my.reindex_forecast(f5_atmos_stacked['slp'])\n",
    "\n",
    "f5_slp = f5_slp.interp({'lat': [-40, -65]})\n",
    "f5_slp = f5_slp.chunk({'init_date': -1, 'time': -1})\n",
    "f5_slp = my.to_zarr(\n",
    "    f5_slp, f'data/CAFE-f5_slp.zarr', clobber=clobber)"
   ]
  },
  {
   "cell_type": "markdown",
   "id": "e4b4314b-2f9b-4469-860a-bf0955408918",
   "metadata": {},
   "source": [
    "--------\n",
    "# End notebook"
   ]
  },
  {
   "cell_type": "code",
   "execution_count": 34,
   "id": "f8dfac0e-839f-4ce1-a991-4d4984275c3e",
   "metadata": {},
   "outputs": [],
   "source": [
    "cluster.close()\n",
    "client.close()"
   ]
  },
  {
   "cell_type": "code",
   "execution_count": null,
   "id": "259ca092-d365-4d44-95f3-1e7f6396f8c3",
   "metadata": {},
   "outputs": [],
   "source": []
  }
 ],
 "metadata": {
  "kernelspec": {
   "display_name": "Python (pangeo_xesmf)",
   "language": "python",
   "name": "pangeo_xesmf"
  },
  "language_info": {
   "codemirror_mode": {
    "name": "ipython",
    "version": 3
   },
   "file_extension": ".py",
   "mimetype": "text/x-python",
   "name": "python",
   "nbconvert_exporter": "python",
   "pygments_lexer": "ipython3",
   "version": "3.9.4"
  }
 },
 "nbformat": 4,
 "nbformat_minor": 5
}
