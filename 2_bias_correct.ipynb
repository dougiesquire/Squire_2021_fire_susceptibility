{
 "cells": [
  {
   "cell_type": "markdown",
   "id": "33bf3d01-ef17-47c2-b77c-b7500a8f5ab7",
   "metadata": {},
   "source": [
    "# Bias correct the forecast data\n",
    "### Time taken: < 1 min (cluster only needed for anomalising sst below)\n",
    "\n",
    "Note that the CAFE-f5 dataset is used here to calculate the biases so that the biases can be estimated using a relatively long time period (31 years: 1980-2020). The CAFE-f6 model dataset is initialised over a shorter period (2005-2020), so provides, for example, only 7 years of data at 115 months lead (2014-2020) that could be compared to observations to estimate biases.\n",
    "\n",
    "Note only the drought index requires bias correction in order to pass the fidelity testing (see `3_fidelity_testing.ipynb`). Here, the mean model biases are estimated as the average difference between the AWAP and CAFE-f5 1990-2020 climatological averages for each lead. Raw model values of Dec FFDI are used for subsequent analysis."
   ]
  },
  {
   "cell_type": "code",
   "execution_count": 1,
   "id": "ed6e2eac-68e6-41ec-aaa1-4649b3cf8dcc",
   "metadata": {},
   "outputs": [],
   "source": [
    "import numpy as np\n",
    "\n",
    "import myfuncs as my\n",
    "\n",
    "from dask.distributed import Client\n",
    "from dask_jobqueue import PBSCluster\n",
    "\n",
    "import warnings\n",
    "warnings.filterwarnings(\"ignore\")"
   ]
  },
  {
   "cell_type": "code",
   "execution_count": 2,
   "id": "48c30648-d97b-4d87-b13b-d3d410e3e8e9",
   "metadata": {},
   "outputs": [],
   "source": [
    "walltime = '02:00:00'\n",
    "cores = 48\n",
    "memory = '192GB'\n",
    "cluster = PBSCluster(walltime=str(walltime), cores=cores, memory=str(memory),\n",
    "                     job_extra=['-l ncpus='+str(cores),\n",
    "                                '-l mem='+str(memory),\n",
    "                                '-P xv83',\n",
    "                                '-l jobfs=100GB',\n",
    "                                '-l storage=gdata/xv83+gdata/v14+scratch/v14'],\n",
    "                     local_directory='$PBS_JOBFS',\n",
    "                     # env_extra=['export MALLOC_TRIM_THRESHOLD_=\"0\"'],\n",
    "                     header_skip=[\"select\"])"
   ]
  },
  {
   "cell_type": "code",
   "execution_count": 3,
   "id": "fa13e96e-5e46-41b2-a626-a35109c78dce",
   "metadata": {},
   "outputs": [
    {
     "data": {
      "text/html": [
       "\n",
       "            <div>\n",
       "                <div style=\"\n",
       "                    width: 24px;\n",
       "                    height: 24px;\n",
       "                    background-color: #e1e1e1;\n",
       "                    border: 3px solid #9D9D9D;\n",
       "                    border-radius: 5px;\n",
       "                    position: absolute;\"> </div>\n",
       "                <div style=\"margin-left: 48px;\">\n",
       "                    <h3 style=\"margin-bottom: 0px;\">Client</h3>\n",
       "                    <p style=\"color: #9D9D9D; margin-bottom: 0px;\">Client-e126566a-fa86-11eb-a4db-54b2038783e8</p>\n",
       "                    <table style=\"width: 100%; text-align: left;\">\n",
       "                    \n",
       "                <tr>\n",
       "                    <td style=\"text-align: left;\"><strong>Connection method:</strong> Cluster object</td>\n",
       "                    <td style=\"text-align: left;\"><strong>Cluster type:</strong> PBSCluster</td>\n",
       "                </tr>\n",
       "                \n",
       "                <tr>\n",
       "                    <td style=\"text-align: left;\">\n",
       "                        <strong>Dashboard: </strong>\n",
       "                        <a href=\"http://10.6.62.47:8787/status\">http://10.6.62.47:8787/status</a>\n",
       "                    </td>\n",
       "                    <td style=\"text-align: left;\"></td>\n",
       "                </tr>\n",
       "                \n",
       "                    </table>\n",
       "                    \n",
       "                <details>\n",
       "                <summary style=\"margin-bottom: 20px;\"><h3 style=\"display: inline;\">Cluster Info</h3></summary>\n",
       "                \n",
       "            <div class=\"jp-RenderedHTMLCommon jp-RenderedHTML jp-mod-trusted jp-OutputArea-output\">\n",
       "                <div style=\"\n",
       "                    width: 24px;\n",
       "                    height: 24px;\n",
       "                    background-color: #e1e1e1;\n",
       "                    border: 3px solid #9D9D9D;\n",
       "                    border-radius: 5px;\n",
       "                    position: absolute;\"> </div>\n",
       "                <div style=\"margin-left: 48px;\">\n",
       "                    <h3 style=\"margin-bottom: 0px; margin-top: 0px;\">PBSCluster</h3>\n",
       "                    <p style=\"color: #9D9D9D; margin-bottom: 0px;\">b403f696</p>\n",
       "                    <table style=\"width: 100%; text-align: left;\">\n",
       "                    \n",
       "            <tr>\n",
       "                <td style=\"text-align: left;\">\n",
       "                    <strong>Dashboard:</strong> <a href=\"http://10.6.62.47:8787/status\">http://10.6.62.47:8787/status</a>\n",
       "                </td>\n",
       "                <td style=\"text-align: left;\"><strong>Workers:</strong> 0</td>\n",
       "            </tr>\n",
       "            <tr>\n",
       "                <td style=\"text-align: left;\">\n",
       "                    <strong>Total threads:</strong>\n",
       "                    0\n",
       "                </td>\n",
       "                <td style=\"text-align: left;\">\n",
       "                    <strong>Total memory:</strong>\n",
       "                    0 B\n",
       "                </td>\n",
       "            </tr>\n",
       "        \n",
       "                    </table>\n",
       "                    <details>\n",
       "                    <summary style=\"margin-bottom: 20px;\"><h3 style=\"display: inline;\">Scheduler Info</h3></summary>\n",
       "                    \n",
       "        <div style=\"\">\n",
       "            \n",
       "            <div>\n",
       "                <div style=\"\n",
       "                    width: 24px;\n",
       "                    height: 24px;\n",
       "                    background-color: #FFF7E5;\n",
       "                    border: 3px solid #FF6132;\n",
       "                    border-radius: 5px;\n",
       "                    position: absolute;\"> </div>\n",
       "                <div style=\"margin-left: 48px;\">\n",
       "                    <h3 style=\"margin-bottom: 0px;\">Scheduler</h3>\n",
       "                    <p style=\"color: #9D9D9D; margin-bottom: 0px;\">Scheduler-09889e24-dce5-4bbe-a07e-c31dd0d54eab</p>\n",
       "                    <table style=\"width: 100%; text-align: left;\">\n",
       "                        <tr>\n",
       "                            <td style=\"text-align: left;\"><strong>Comm:</strong> tcp://10.6.62.47:33243</td>\n",
       "                            <td style=\"text-align: left;\"><strong>Workers:</strong> 0</td>\n",
       "                        </tr>\n",
       "                        <tr>\n",
       "                            <td style=\"text-align: left;\">\n",
       "                                <strong>Dashboard:</strong> <a href=\"http://10.6.62.47:8787/status\">http://10.6.62.47:8787/status</a>\n",
       "                            </td>\n",
       "                            <td style=\"text-align: left;\">\n",
       "                                <strong>Total threads:</strong>\n",
       "                                0\n",
       "                            </td>\n",
       "                        </tr>\n",
       "                        <tr>\n",
       "                            <td style=\"text-align: left;\">\n",
       "                                <strong>Started:</strong>\n",
       "                                Just now\n",
       "                            </td>\n",
       "                            <td style=\"text-align: left;\">\n",
       "                                <strong>Total memory:</strong>\n",
       "                                0 B\n",
       "                            </td>\n",
       "                        </tr>\n",
       "                    </table>\n",
       "                </div>\n",
       "            </div>\n",
       "        \n",
       "            <details style=\"margin-left: 48px;\">\n",
       "            <summary style=\"margin-bottom: 20px;\"><h3 style=\"display: inline;\">Workers</h3></summary>\n",
       "            \n",
       "            </details>\n",
       "        </div>\n",
       "        \n",
       "                    </details>\n",
       "                </div>\n",
       "            </div>\n",
       "        \n",
       "                </details>\n",
       "                \n",
       "                </div>\n",
       "            </div>\n",
       "        "
      ],
      "text/plain": [
       "<Client: 'tcp://10.6.62.47:33243' processes=0 threads=0, memory=0 B>"
      ]
     },
     "execution_count": 3,
     "metadata": {},
     "output_type": "execute_result"
    }
   ],
   "source": [
    "cluster.scale(jobs=1)\n",
    "client = Client(cluster)\n",
    "client"
   ]
  },
  {
   "cell_type": "markdown",
   "id": "a2fb5414-9ab9-4c98-bf74-52347dac6e0f",
   "metadata": {},
   "source": [
    "--------\n",
    "# Parameters"
   ]
  },
  {
   "cell_type": "code",
   "execution_count": 3,
   "id": "53869e22-4855-46f0-b3ab-bdb8cdcaeb52",
   "metadata": {},
   "outputs": [],
   "source": [
    "period = slice('1990-01-01','2020-12-31')\n",
    "SOND = [9,10,11,12]\n",
    "\n",
    "clobber = False # If False, read intermediate datasets from disk if they exist"
   ]
  },
  {
   "cell_type": "markdown",
   "id": "3b57b459-dde9-4c66-852b-af7d8f61551d",
   "metadata": {},
   "source": [
    "--------\n",
    "# Estimate the model biases for the drought index from CAFE-f5"
   ]
  },
  {
   "cell_type": "code",
   "execution_count": 4,
   "id": "8771d785-235a-4283-be35-cbd138666118",
   "metadata": {},
   "outputs": [],
   "source": [
    "def lead_days_to_months(fcst, days_to_zero_lead=60):\n",
    "    \"\"\" Hack to convert lead_time in days to months \"\"\"\n",
    "    forecast_month = np.unique(fcst.time.dt.month)\n",
    "    assert len(forecast_month) == 1\n",
    "    forecast_month = forecast_month[0]\n",
    "\n",
    "    lead_year = np.floor(((fcst.lead_time - days_to_zero_lead) / 365))\n",
    "    lead_month = lead_year * 12 + forecast_month - fcst.init_date.dt.month\n",
    "    return fcst.assign_coords({'lead_time': lead_month})"
   ]
  },
  {
   "cell_type": "code",
   "execution_count": 5,
   "id": "872f507d-0eff-4a6f-bbe3-4013f3fafffd",
   "metadata": {},
   "outputs": [],
   "source": [
    "awap_precip_ann_reg = my.open_zarr(\n",
    "    'data/AWAP_precip-annDEC-accl_region.zarr',\n",
    "    open_zarr_kwargs={'use_cftime':True})\n",
    "awap_precip_ann_reg_period = awap_precip_ann_reg.sel(time=period)\n",
    "\n",
    "f5_precip_ann_reg = my.open_zarr('data/CAFE-f5_precip-annDEC-accl_region.zarr')\n",
    "f5_precip_ann_reg = lead_days_to_months(f5_precip_ann_reg)\n",
    "f5_precip_ann_reg_period = f5_precip_ann_reg.sel(time=period)"
   ]
  },
  {
   "cell_type": "code",
   "execution_count": 6,
   "id": "f24158a9-99af-48a2-9fe7-413a72c7de1d",
   "metadata": {},
   "outputs": [],
   "source": [
    "bias_precip_ann_reg = my.get_bias(\n",
    "    f5_precip_ann_reg_period.mean('ensemble'), \n",
    "    awap_precip_ann_reg_period)"
   ]
  },
  {
   "cell_type": "markdown",
   "id": "bb00ffbc-1216-4351-95cf-425e04b299cd",
   "metadata": {},
   "source": [
    "## Figure for reviewer: delete me"
   ]
  },
  {
   "cell_type": "code",
   "execution_count": 36,
   "id": "d378e3c0-e0ba-4ce6-a9dd-f68ba27dbee6",
   "metadata": {},
   "outputs": [
    {
     "data": {
      "image/png": "[encoded data removed]",
      "text/plain": [
       "<Figure size 288x144 with 1 Axes>"
      ]
     },
     "metadata": {
      "needs_background": "light"
     },
     "output_type": "display_data"
    }
   ],
   "source": [
    "import matplotlib.pyplot as plt\n",
    "from matplotlib import cm\n",
    "\n",
    "ax_color = 'k'\n",
    "fontsize = 8\n",
    "rc_context = {'axes.edgecolor':ax_color, \n",
    "              'xtick.color':ax_color, \n",
    "              'ytick.color':ax_color,\n",
    "              'axes.labelcolor': ax_color,\n",
    "              'text.color': ax_color,\n",
    "              'font.size': fontsize}\n",
    "\n",
    "with plt.rc_context(rc_context):\n",
    "    fig = plt.figure(constrained_layout=True, figsize=(4,2.0))\n",
    "\n",
    "    col = cm.get_cmap('magma')(0.3)\n",
    "\n",
    "    ax = fig.add_subplot(111)\n",
    "    ax.grid(zorder=-1, linewidth=0.5)\n",
    "    to_plot = bias_precip_ann_reg['precip_ann'].sum('month')\n",
    "    ax.plot(to_plot.lead_time, to_plot, \n",
    "            linestyle='-', color=col, linewidth=1)\n",
    "\n",
    "    ax.set_ylabel(r'$\\overline{\\mathrm{DI}}$ bias');\n",
    "    ax.set_xticks(to_plot.lead_time.values)\n",
    "    ax.set_xlabel('Lead time [months]');\n",
    "\n",
    "fig.savefig(f'./figures/DI_bias.pdf', format='pdf',\n",
    "            bbox_inches='tight')"
   ]
  },
  {
   "cell_type": "markdown",
   "id": "9a22691a-a685-4e6f-873e-ae496a529418",
   "metadata": {},
   "source": [
    "### Remove the bias from CAFE-f5"
   ]
  },
  {
   "cell_type": "code",
   "execution_count": 6,
   "id": "827d6ff5-b5a4-4194-917b-a0019ec880d9",
   "metadata": {},
   "outputs": [],
   "source": [
    "f5_precip_ann_reg_bc = my.remove_bias(f5_precip_ann_reg, bias_precip_ann_reg)\n",
    "f5_precip_ann_reg_bc = f5_precip_ann_reg_bc.chunk(\n",
    "    {d: -1 for d in f5_precip_ann_reg_bc.dims})\n",
    "f5_precip_ann_reg_bc = my.to_zarr(\n",
    "    f5_precip_ann_reg_bc, 'data/CAFE-f5_precip-annDEC-accl_region_bc.zarr', clobber=clobber)"
   ]
  },
  {
   "cell_type": "markdown",
   "id": "76cfb1d7-46fd-46cc-b943-ae82332a9f7a",
   "metadata": {},
   "source": [
    "### Remove the bias from CAFE-f6"
   ]
  },
  {
   "cell_type": "code",
   "execution_count": 7,
   "id": "eca150d6-655b-463f-bbfb-d6e92658c4e6",
   "metadata": {},
   "outputs": [],
   "source": [
    "f6_precip_ann_reg = my.open_zarr('data/CAFE-f6_precip-annDEC-accl_region.zarr')\n",
    "f6_precip_ann_reg = lead_days_to_months(f6_precip_ann_reg)"
   ]
  },
  {
   "cell_type": "code",
   "execution_count": 8,
   "id": "ed7224f8-781b-4637-81bf-1258629662f5",
   "metadata": {},
   "outputs": [],
   "source": [
    "f6_precip_ann_reg_bc = my.remove_bias(f6_precip_ann_reg, bias_precip_ann_reg)\n",
    "f6_precip_ann_reg_bc = f6_precip_ann_reg_bc.chunk(\n",
    "    {d: -1 for d in f6_precip_ann_reg_bc.dims})\n",
    "f6_precip_ann_reg_bc = my.to_zarr(\n",
    "    f6_precip_ann_reg_bc, 'data/CAFE-f6_precip-annDEC-accl_region_bc.zarr', clobber=clobber)"
   ]
  },
  {
   "cell_type": "markdown",
   "id": "471ca9c7-357f-4e69-865e-e1516aaa10bf",
   "metadata": {},
   "source": [
    "### Sanity check that bias correction is doing what it's supposed to\n",
    "Model climatologies of the bias corrected f5 data over `period` should match the observations at all lead times"
   ]
  },
  {
   "cell_type": "code",
   "execution_count": 9,
   "id": "c623e633-4fa1-4fba-a6cf-ca298e56294a",
   "metadata": {},
   "outputs": [],
   "source": [
    "f5_precip_ann_reg_period_bc = my.remove_bias(f5_precip_ann_reg_period, bias_precip_ann_reg)"
   ]
  },
  {
   "cell_type": "code",
   "execution_count": 10,
   "id": "26b6b0e2-5ecd-468b-8d9c-4f8ba80f1506",
   "metadata": {
    "tags": []
   },
   "outputs": [
    {
     "data": {
      "text/plain": [
       "<matplotlib.collections.QuadMesh at 0x155329007280>"
      ]
     },
     "execution_count": 10,
     "metadata": {},
     "output_type": "execute_result"
    },
    {
     "data": {
      "image/png": "[encoded data removed]",
      "text/plain": [
       "<Figure size 432x288 with 2 Axes>"
      ]
     },
     "metadata": {
      "needs_background": "light"
     },
     "output_type": "display_data"
    }
   ],
   "source": [
    "test = my.reindex_forecast(f5_precip_ann_reg_period_bc['precip_ann'])\n",
    "fcst_clim = test.mean('ensemble').groupby('init_date.month').mean('init_date')\n",
    "obsv_clim = awap_precip_ann_reg_period['precip_ann'].mean('time')\n",
    "(fcst_clim - obsv_clim).plot()"
   ]
  },
  {
   "cell_type": "markdown",
   "id": "19b56681-2446-4f30-a374-d25856fb66f6",
   "metadata": {},
   "source": [
    "--------\n",
    "# Remove the CAFE-f5 model climatology from the driver indices to generate anomalies"
   ]
  },
  {
   "cell_type": "markdown",
   "id": "0471c329-e04a-4244-a3c4-0937fa9ab8d7",
   "metadata": {},
   "source": [
    "### SON sea surface temperate"
   ]
  },
  {
   "cell_type": "code",
   "execution_count": 12,
   "id": "ad245904-5515-445a-8c82-72f69c027930",
   "metadata": {},
   "outputs": [],
   "source": [
    "f6_sst = my.open_zarr('data/CAFE-f6_sst-SON-full.zarr')\n",
    "f5_sst = my.open_zarr('data/CAFE-f5_sst-SON-full.zarr')\n",
    "\n",
    "f5_sst_period = f5_sst.sel(time=period)\n",
    "f5_sst_clim = my.forecast_clim(f5_sst_period.mean('ensemble'))"
   ]
  },
  {
   "cell_type": "code",
   "execution_count": 13,
   "id": "9e77488b-fde1-49aa-b2d8-2953a5cc5675",
   "metadata": {
    "tags": []
   },
   "outputs": [],
   "source": [
    "f5_sst_anom = my.remove_bias(f5_sst, f5_sst_clim)\n",
    "f5_sst_anom = my.to_zarr(\n",
    "    f5_sst_anom, 'data/CAFE-f5_sst-SON.zarr', clobber=clobber)"
   ]
  },
  {
   "cell_type": "code",
   "execution_count": 14,
   "id": "55305d6e-e881-4da5-90a6-923a563640a6",
   "metadata": {},
   "outputs": [],
   "source": [
    "f6_sst_anom = my.remove_bias(f6_sst, f5_sst_clim)\n",
    "f6_sst_anom = my.to_zarr(\n",
    "    f6_sst_anom, 'data/CAFE-f6_sst-SON.zarr', clobber=clobber)"
   ]
  },
  {
   "cell_type": "markdown",
   "id": "5b8a9397-2dd2-43e2-897b-851bb0947d20",
   "metadata": {},
   "source": [
    "### SOND 500 hPa geopotential height"
   ]
  },
  {
   "cell_type": "code",
   "execution_count": 15,
   "id": "146c0a5d-3673-4bab-aa0a-4a98ece8679c",
   "metadata": {},
   "outputs": [],
   "source": [
    "f6_h500 = my.open_zarr('data/CAFE-f6_h500-SOND-full.zarr')\n",
    "f5_h500 = my.open_zarr('data/CAFE-f5_h500-SOND-full.zarr')\n",
    "\n",
    "f5_h500_period = f5_h500.sel(time=period)\n",
    "f5_h500_clim = my.forecast_clim(f5_h500_period.mean('ensemble'))"
   ]
  },
  {
   "cell_type": "code",
   "execution_count": 16,
   "id": "1f8dd7fc-5038-48f6-b246-7020a442e5b3",
   "metadata": {
    "tags": []
   },
   "outputs": [],
   "source": [
    "f5_h500_anom = my.remove_bias(f5_h500, f5_h500_clim)\n",
    "f5_h500_anom = my.to_zarr(\n",
    "    f5_h500_anom, 'data/CAFE-f5_h500-SOND.zarr', clobber=clobber)"
   ]
  },
  {
   "cell_type": "code",
   "execution_count": 17,
   "id": "23f83f3b-041e-43d1-b872-56fcf77bec1b",
   "metadata": {},
   "outputs": [],
   "source": [
    "f6_h500_anom = my.remove_bias(f6_h500, f5_h500_clim)\n",
    "f6_h500_anom = my.to_zarr(\n",
    "    f6_h500_anom, 'data/CAFE-f6_h500-SOND.zarr', clobber=clobber)"
   ]
  },
  {
   "cell_type": "markdown",
   "id": "6a5288ac-bf32-43d4-ab56-0cf6395690ad",
   "metadata": {},
   "source": [
    "### NINO 3.4"
   ]
  },
  {
   "cell_type": "code",
   "execution_count": 18,
   "id": "6ab9633c-58cd-4e3b-ba26-a308b8bdf848",
   "metadata": {},
   "outputs": [],
   "source": [
    "f6_nino34 = my.open_zarr('data/CAFE-f6_Nino34-SOND-full.zarr')\n",
    "f5_nino34 = my.open_zarr('data/CAFE-f5_Nino34-SOND-full.zarr')\n",
    "\n",
    "f5_nino34_period = f5_nino34.sel(time=period)\n",
    "f5_nino34_clim = my.forecast_clim(f5_nino34_period.mean('ensemble'))"
   ]
  },
  {
   "cell_type": "code",
   "execution_count": 19,
   "id": "cac3c9af-bc04-4de0-831c-0f547cb0f193",
   "metadata": {},
   "outputs": [],
   "source": [
    "f5_nino34_anom = my.remove_bias(f5_nino34, f5_nino34_clim)\n",
    "f5_nino34_anom = my.to_zarr(\n",
    "    f5_nino34_anom, 'data/CAFE-f5_Nino34-SOND.zarr', clobber=clobber)"
   ]
  },
  {
   "cell_type": "code",
   "execution_count": 20,
   "id": "8b4b78ea-9804-47a7-968c-50bda3f30cc4",
   "metadata": {},
   "outputs": [],
   "source": [
    "f6_nino34_anom = my.remove_bias(f6_nino34, f5_nino34_clim)\n",
    "f6_nino34_anom = my.to_zarr(\n",
    "    f6_nino34_anom, 'data/CAFE-f6_Nino34-SOND.zarr', clobber=clobber)"
   ]
  },
  {
   "cell_type": "markdown",
   "id": "e4a868e4-4581-4c38-894c-8565ef9e452f",
   "metadata": {},
   "source": [
    "### DMI"
   ]
  },
  {
   "cell_type": "code",
   "execution_count": 22,
   "id": "04605f52-980b-4483-b7ef-7d3ae5aec212",
   "metadata": {},
   "outputs": [],
   "source": [
    "f6_dmi = my.open_zarr('data/CAFE-f6_DMI-SON-full.zarr')\n",
    "f5_dmi = my.open_zarr('data/CAFE-f5_DMI-SON-full.zarr')\n",
    "\n",
    "f5_dmi_period = f5_dmi.sel(time=period)\n",
    "f5_dmi_clim = my.forecast_clim(f5_dmi_period.mean('ensemble'))"
   ]
  },
  {
   "cell_type": "code",
   "execution_count": 23,
   "id": "18a71591-5b13-41b2-be07-d209cd5d8632",
   "metadata": {},
   "outputs": [],
   "source": [
    "f5_dmi_anom = my.remove_bias(f5_dmi, f5_dmi_clim)\n",
    "f5_dmi_anom = my.to_zarr(\n",
    "    f5_dmi_anom, 'data/CAFE-f5_DMI-SON.zarr', clobber=clobber)"
   ]
  },
  {
   "cell_type": "code",
   "execution_count": 24,
   "id": "590a83bc-7060-46b4-8a47-e5fa560c3192",
   "metadata": {},
   "outputs": [],
   "source": [
    "f6_dmi_anom = my.remove_bias(f6_dmi, f5_dmi_clim)\n",
    "f6_dmi_anom = my.to_zarr(\n",
    "    f6_dmi_anom, 'data/CAFE-f6_DMI-SON.zarr', clobber=clobber)"
   ]
  },
  {
   "cell_type": "markdown",
   "id": "b776c3a6-af39-4187-94c1-0ecd95c1a284",
   "metadata": {},
   "source": [
    "### SAM"
   ]
  },
  {
   "cell_type": "code",
   "execution_count": 26,
   "id": "e3dc17be-9bf1-4a55-9822-a5bb9ae63061",
   "metadata": {},
   "outputs": [],
   "source": [
    "f5_slp = my.open_zarr('data/CAFE-f5_slp.zarr')['slp']\n",
    "f6_slp = my.open_zarr('data/CAFE-f6_slp.zarr')['slp']"
   ]
  },
  {
   "cell_type": "code",
   "execution_count": 27,
   "id": "f375dcdc-18dd-4d6c-88bc-164c70f2f348",
   "metadata": {},
   "outputs": [],
   "source": [
    "f5_slp_stacked = my.reindex_forecast(f5_slp)\n",
    "f5_sam_stacked = my.calc_sam(\n",
    "    f5_slp_stacked,\n",
    "    period,\n",
    "    groupby_dim='init_date').rename('sam')\n",
    "f5_sam = my.reindex_forecast(f5_sam_stacked)\n",
    "\n",
    "f5_sam_SOND = my.resample_months_in_year(\n",
    "    f5_sam, SOND, method='mean').rename('sam_SOND')\n",
    "f5_sam_SOND = my.to_zarr(\n",
    "    f5_sam_SOND, 'data/CAFE-f5_SAM-SOND.zarr', clobber=clobber)"
   ]
  },
  {
   "cell_type": "code",
   "execution_count": 28,
   "id": "12d6e7f9-6e8d-4330-8b25-eea514aaf549",
   "metadata": {},
   "outputs": [],
   "source": [
    "f6_slp_stacked = my.reindex_forecast(f6_slp)\n",
    "f6_sam_stacked = my.calc_sam(\n",
    "    f6_slp_stacked, \n",
    "    period, \n",
    "    slp_for_clim=f5_slp_stacked, \n",
    "    groupby_dim='init_date').rename('sam')\n",
    "f6_sam = my.reindex_forecast(f6_sam_stacked)\n",
    "\n",
    "f6_sam_SOND = my.resample_months_in_year(\n",
    "    f6_sam, SOND, method='mean').rename('sam_SOND')\n",
    "f6_sam_SOND = my.to_zarr(\n",
    "    f6_sam_SOND, 'data/CAFE-f6_SAM-SOND.zarr', clobber=clobber)"
   ]
  },
  {
   "cell_type": "markdown",
   "id": "1fb2fc68-d033-4ae4-a5c5-fead4dbc2ee2",
   "metadata": {},
   "source": [
    "--------\n",
    "# End notebook"
   ]
  },
  {
   "cell_type": "code",
   "execution_count": 31,
   "id": "e26d6bb5-0938-4592-b15d-771e776fa503",
   "metadata": {},
   "outputs": [],
   "source": [
    "cluster.close()\n",
    "client.close()"
   ]
  },
  {
   "cell_type": "code",
   "execution_count": null,
   "id": "2453bb9e-5cbf-4ec6-a160-05d3b246f84a",
   "metadata": {},
   "outputs": [],
   "source": []
  }
 ],
 "metadata": {
  "kernelspec": {
   "display_name": "Python (pangeo_base)",
   "language": "python",
   "name": "pangeo"
  },
  "language_info": {
   "codemirror_mode": {
    "name": "ipython",
    "version": 3
   },
   "file_extension": ".py",
   "mimetype": "text/x-python",
   "name": "python",
   "nbconvert_exporter": "python",
   "pygments_lexer": "ipython3",
   "version": "3.9.4"
  }
 },
 "nbformat": 4,
 "nbformat_minor": 5
}
