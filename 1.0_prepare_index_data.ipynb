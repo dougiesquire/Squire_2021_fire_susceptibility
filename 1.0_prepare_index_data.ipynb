{
 "cells": [
  {
   "cell_type": "markdown",
   "metadata": {},
   "source": [
    "# Prepare FFDI and DI data from raw forecast/historical data and save intermediate files for further processing\n",
    "\n",
    "### Time taken: ~ 1.5 hours\n",
    "\n",
    "------"
   ]
  },
  {
   "cell_type": "code",
   "execution_count": 1,
   "metadata": {},
   "outputs": [],
   "source": [
    "import glob\n",
    "\n",
    "import cftime\n",
    "\n",
    "import numpy as np\n",
    "import xarray as xr\n",
    "\n",
    "import myfuncs as my\n",
    "\n",
    "import matplotlib.pyplot as plt\n",
    "\n",
    "import warnings\n",
    "warnings.filterwarnings(\"ignore\")\n",
    "\n",
    "from dask.distributed import Client\n",
    "from dask_jobqueue import PBSCluster"
   ]
  },
  {
   "cell_type": "code",
   "execution_count": 18,
   "metadata": {},
   "outputs": [],
   "source": [
    "walltime = '02:00:00'\n",
    "cores = 48\n",
    "memory = '192GB'\n",
    "cluster = PBSCluster(processes=4,\n",
    "                     walltime=str(walltime), cores=cores, memory=str(memory),\n",
    "                     job_extra=['-l ncpus='+str(cores),\n",
    "                                '-l mem='+str(memory),\n",
    "                                '-P xv83',\n",
    "                                '-l jobfs=100GB',\n",
    "                                '-l storage=gdata/xv83+gdata/v14+scratch/v14'],\n",
    "                     local_directory='$PBS_JOBFS',\n",
    "                     # env_extra=['export MALLOC_TRIM_THRESHOLD_=\"0\"'],\n",
    "                     header_skip=[\"select\"])"
   ]
  },
  {
   "cell_type": "code",
   "execution_count": 19,
   "metadata": {},
   "outputs": [
    {
     "data": {
      "text/html": [
       "\n",
       "            <div>\n",
       "                <div style=\"\n",
       "                    width: 24px;\n",
       "                    height: 24px;\n",
       "                    background-color: #e1e1e1;\n",
       "                    border: 3px solid #9D9D9D;\n",
       "                    border-radius: 5px;\n",
       "                    position: absolute;\"> </div>\n",
       "                <div style=\"margin-left: 48px;\">\n",
       "                    <h3 style=\"margin-bottom: 0px;\">Client</h3>\n",
       "                    <p style=\"color: #9D9D9D; margin-bottom: 0px;\">Client-90631867-fd82-11eb-8c6d-54b20387783f</p>\n",
       "                    <table style=\"width: 100%; text-align: left;\">\n",
       "                    \n",
       "                <tr>\n",
       "                    <td style=\"text-align: left;\"><strong>Connection method:</strong> Cluster object</td>\n",
       "                    <td style=\"text-align: left;\"><strong>Cluster type:</strong> PBSCluster</td>\n",
       "                </tr>\n",
       "                \n",
       "                <tr>\n",
       "                    <td style=\"text-align: left;\">\n",
       "                        <strong>Dashboard: </strong>\n",
       "                        <a href=\"http://10.6.77.10:8787/status\">http://10.6.77.10:8787/status</a>\n",
       "                    </td>\n",
       "                    <td style=\"text-align: left;\"></td>\n",
       "                </tr>\n",
       "                \n",
       "                    </table>\n",
       "                    \n",
       "                <details>\n",
       "                <summary style=\"margin-bottom: 20px;\"><h3 style=\"display: inline;\">Cluster Info</h3></summary>\n",
       "                \n",
       "            <div class=\"jp-RenderedHTMLCommon jp-RenderedHTML jp-mod-trusted jp-OutputArea-output\">\n",
       "                <div style=\"\n",
       "                    width: 24px;\n",
       "                    height: 24px;\n",
       "                    background-color: #e1e1e1;\n",
       "                    border: 3px solid #9D9D9D;\n",
       "                    border-radius: 5px;\n",
       "                    position: absolute;\"> </div>\n",
       "                <div style=\"margin-left: 48px;\">\n",
       "                    <h3 style=\"margin-bottom: 0px; margin-top: 0px;\">PBSCluster</h3>\n",
       "                    <p style=\"color: #9D9D9D; margin-bottom: 0px;\">b0b55266</p>\n",
       "                    <table style=\"width: 100%; text-align: left;\">\n",
       "                    \n",
       "            <tr>\n",
       "                <td style=\"text-align: left;\">\n",
       "                    <strong>Dashboard:</strong> <a href=\"http://10.6.77.10:8787/status\">http://10.6.77.10:8787/status</a>\n",
       "                </td>\n",
       "                <td style=\"text-align: left;\"><strong>Workers:</strong> 0</td>\n",
       "            </tr>\n",
       "            <tr>\n",
       "                <td style=\"text-align: left;\">\n",
       "                    <strong>Total threads:</strong>\n",
       "                    0\n",
       "                </td>\n",
       "                <td style=\"text-align: left;\">\n",
       "                    <strong>Total memory:</strong>\n",
       "                    0 B\n",
       "                </td>\n",
       "            </tr>\n",
       "        \n",
       "                    </table>\n",
       "                    <details>\n",
       "                    <summary style=\"margin-bottom: 20px;\"><h3 style=\"display: inline;\">Scheduler Info</h3></summary>\n",
       "                    \n",
       "        <div style=\"\">\n",
       "            \n",
       "            <div>\n",
       "                <div style=\"\n",
       "                    width: 24px;\n",
       "                    height: 24px;\n",
       "                    background-color: #FFF7E5;\n",
       "                    border: 3px solid #FF6132;\n",
       "                    border-radius: 5px;\n",
       "                    position: absolute;\"> </div>\n",
       "                <div style=\"margin-left: 48px;\">\n",
       "                    <h3 style=\"margin-bottom: 0px;\">Scheduler</h3>\n",
       "                    <p style=\"color: #9D9D9D; margin-bottom: 0px;\">Scheduler-724d20cc-bdc0-49c6-add9-99398871ca41</p>\n",
       "                    <table style=\"width: 100%; text-align: left;\">\n",
       "                        <tr>\n",
       "                            <td style=\"text-align: left;\"><strong>Comm:</strong> tcp://10.6.77.10:41821</td>\n",
       "                            <td style=\"text-align: left;\"><strong>Workers:</strong> 0</td>\n",
       "                        </tr>\n",
       "                        <tr>\n",
       "                            <td style=\"text-align: left;\">\n",
       "                                <strong>Dashboard:</strong> <a href=\"http://10.6.77.10:8787/status\">http://10.6.77.10:8787/status</a>\n",
       "                            </td>\n",
       "                            <td style=\"text-align: left;\">\n",
       "                                <strong>Total threads:</strong>\n",
       "                                0\n",
       "                            </td>\n",
       "                        </tr>\n",
       "                        <tr>\n",
       "                            <td style=\"text-align: left;\">\n",
       "                                <strong>Started:</strong>\n",
       "                                Just now\n",
       "                            </td>\n",
       "                            <td style=\"text-align: left;\">\n",
       "                                <strong>Total memory:</strong>\n",
       "                                0 B\n",
       "                            </td>\n",
       "                        </tr>\n",
       "                    </table>\n",
       "                </div>\n",
       "            </div>\n",
       "        \n",
       "            <details style=\"margin-left: 48px;\">\n",
       "            <summary style=\"margin-bottom: 20px;\"><h3 style=\"display: inline;\">Workers</h3></summary>\n",
       "            \n",
       "            </details>\n",
       "        </div>\n",
       "        \n",
       "                    </details>\n",
       "                </div>\n",
       "            </div>\n",
       "        \n",
       "                </details>\n",
       "                \n",
       "                </div>\n",
       "            </div>\n",
       "        "
      ],
      "text/plain": [
       "<Client: 'tcp://10.6.77.10:41821' processes=0 threads=0, memory=0 B>"
      ]
     },
     "execution_count": 19,
     "metadata": {},
     "output_type": "execute_result"
    }
   ],
   "source": [
    "cluster.scale(jobs=1)\n",
    "client = Client(cluster)\n",
    "client"
   ]
  },
  {
   "cell_type": "markdown",
   "metadata": {},
   "source": [
    "--------\n",
    "# Parameters"
   ]
  },
  {
   "cell_type": "code",
   "execution_count": 2,
   "metadata": {},
   "outputs": [],
   "source": [
    "REGION_MASK = xr.open_dataset('./data/region_mask.ONDJF.10.nc')['region_mask']\n",
    "AUSTRALIA_MASK_jragrid = xr.open_dataset('./data/Aus_mask.jra_grid.nc')['australia_mask']\n",
    "AUSTRALIA_MASK_awapgrid = xr.open_dataset('./data/Aus_mask.awap_grid.nc')['australia_mask']\n",
    "AUSTRALIA_MASK_cafegrid = xr.open_dataset('./data/Aus_mask.cafe_grid.nc')['australia_mask']\n",
    "\n",
    "cafe_area = my.open_zarr(\n",
    "    '/g/data/xv83/dcfp/CAFE-f6/c5-d60-pX-f6-20201101/atmos_isobaric_daily.zarr.zip',\n",
    "    preprocess=my.truncate_latitudes)['area']\n",
    "\n",
    "clobber = False # If False, read intermediate datasets from disk if they exist"
   ]
  },
  {
   "cell_type": "markdown",
   "metadata": {},
   "source": [
    "--------\n",
    "# Prepare JRA-55 data on cafe grid over Australia and our region"
   ]
  },
  {
   "cell_type": "code",
   "execution_count": 3,
   "metadata": {},
   "outputs": [],
   "source": [
    "data_path = '/g/data/xv83/reanalyses/JRA55'"
   ]
  },
  {
   "cell_type": "code",
   "execution_count": 6,
   "metadata": {},
   "outputs": [],
   "source": [
    "jra_sfc_variables = {'TPRAT_GDS0_SFC': 'precip',\n",
    "                     'TMAX_GDS4_HTGL': 't_ref_max',\n",
    "                     'UGRD_GDS0_HTGL': 'u_ref',\n",
    "                     'VGRD_GDS0_HTGL': 'v_ref'}\n",
    "\n",
    "jra_sfc = my.open_zarr(\n",
    "    f'{data_path}/surface_daily_cafe-grid.zarr', \n",
    "    variables=jra_sfc_variables.keys(),\n",
    "    region=AUSTRALIA_MASK_cafegrid,\n",
    "    preprocess=my.truncate_latitudes).rename(\n",
    "    {**jra_sfc_variables, 'initial_time0_hours': 'time'})\n",
    "\n",
    "jra_iso_variables = {'RH_GDS0_ISBL': 'rh'}\n",
    "\n",
    "jra_iso = my.open_zarr(\n",
    "    f'{data_path}/isobaric_daily_cafe-grid.zarr', \n",
    "    variables=jra_iso_variables.keys(),\n",
    "    region=AUSTRALIA_MASK_cafegrid,\n",
    "    preprocess=my.truncate_latitudes).rename(\n",
    "    {**jra_iso_variables, 'initial_time0_hours': 'time'})"
   ]
  },
  {
   "cell_type": "markdown",
   "metadata": {},
   "source": [
    "### Process precip"
   ]
  },
  {
   "cell_type": "code",
   "execution_count": 7,
   "metadata": {},
   "outputs": [],
   "source": [
    "jra_precip = jra_sfc['precip']\n",
    "jra_precip = jra_precip.chunk({'time':-1})\n",
    "jra_precip = my.to_zarr(\n",
    "    jra_precip, f'data/JRA-55_precip_cafegrid.zarr', clobber=clobber)\n",
    "\n",
    "jra_precip_20d = jra_precip.rolling(time=20).sum().rename('precip_20d')\n",
    "jra_precip_20d = jra_precip_20d.chunk({'time':-1})\n",
    "jra_precip_20d = my.to_zarr(\n",
    "    jra_precip_20d, f'data/JRA-55_precip-20d-accl_cafegrid.zarr', clobber=clobber)\n",
    "\n",
    "jra_df = my.calc_drought_factor(jra_precip_20d, dim='time').rename('drought_factor')\n",
    "jra_df = jra_df.chunk({'time':-1})\n",
    "jra_df = my.to_zarr(\n",
    "    jra_df, f'data/JRA-55_drought-factor_cafegrid.zarr', clobber=clobber)"
   ]
  },
  {
   "cell_type": "markdown",
   "metadata": {},
   "source": [
    "### Process t_ref_max"
   ]
  },
  {
   "cell_type": "code",
   "execution_count": 8,
   "metadata": {},
   "outputs": [],
   "source": [
    "jra_tmax = jra_sfc['t_ref_max'] - 273.15 # [C]\n",
    "jra_tmax = jra_tmax.chunk({'time':-1})\n",
    "jra_tmax = my.to_zarr(\n",
    "    jra_tmax, f'data/JRA-55_tmax_cafegrid.zarr', clobber=clobber)"
   ]
  },
  {
   "cell_type": "markdown",
   "metadata": {},
   "source": [
    "### Process V_ref"
   ]
  },
  {
   "cell_type": "code",
   "execution_count": 9,
   "metadata": {},
   "outputs": [],
   "source": [
    "jra_uref = jra_sfc['u_ref'] * 3.6 # [km/h]\n",
    "jra_vref = jra_sfc['v_ref'] * 3.6 # [km/h]\n",
    "jra_Vref = np.sqrt(jra_uref ** 2 + jra_vref ** 2).rename('V_ref')\n",
    "jra_Vref = jra_Vref.chunk({'time':-1})\n",
    "jra_Vref = my.to_zarr(\n",
    "    jra_Vref, f'data/JRA-55_Vref_cafegrid.zarr', clobber=clobber)"
   ]
  },
  {
   "cell_type": "markdown",
   "metadata": {},
   "source": [
    "## Process rh"
   ]
  },
  {
   "cell_type": "code",
   "execution_count": 10,
   "metadata": {},
   "outputs": [],
   "source": [
    "jra_rh = jra_iso['rh'].sel(lv_ISBL1=1000.)\n",
    "jra_rh = jra_rh.chunk({'time':-1})\n",
    "jra_rh = my.to_zarr(\n",
    "    jra_rh, f'data/JRA-55_rh_cafegrid.zarr', clobber=clobber)"
   ]
  },
  {
   "cell_type": "markdown",
   "metadata": {},
   "source": [
    "## Process FFDI"
   ]
  },
  {
   "cell_type": "code",
   "execution_count": 11,
   "metadata": {},
   "outputs": [],
   "source": [
    "jra_FFDI = my.calc_FFDI(jra_df, jra_tmax, jra_rh, jra_Vref)\n",
    "jra_FFDI = jra_FFDI.chunk({'time':-1})\n",
    "jra_FFDI = my.to_zarr(\n",
    "    jra_FFDI, f'data/JRA-55_FFDI_cafegrid.zarr', clobber=clobber)\n",
    "\n",
    "jra_FFDI_DEC = my.calc_DEC_average(jra_FFDI).rename('FFDI_DEC')\n",
    "jra_FFDI_DEC = my.to_zarr(\n",
    "    jra_FFDI_DEC, f'data/JRA-55_FFDI-DEC-mean_cafegrid.zarr', clobber=clobber)\n",
    "\n",
    "jra_FFDI_DEC_reg = jra_FFDI_DEC.where(\n",
    "    REGION_MASK, drop=True).weighted(cafe_area).mean(['lat','lon'])\n",
    "jra_FFDI_DEC_reg = my.to_zarr(\n",
    "    jra_FFDI_DEC_reg, f'data/JRA-55_FFDI-DEC-mean_region.zarr', clobber=clobber)"
   ]
  },
  {
   "cell_type": "markdown",
   "metadata": {},
   "source": [
    "--------\n",
    "# Prepare JRA-55 data on native grid over Australia"
   ]
  },
  {
   "cell_type": "code",
   "execution_count": 4,
   "metadata": {},
   "outputs": [],
   "source": [
    "data_path = '/g/data/xv83/reanalyses/JRA55'"
   ]
  },
  {
   "cell_type": "code",
   "execution_count": 5,
   "metadata": {},
   "outputs": [],
   "source": [
    "def preprocess(ds):\n",
    "    def _rename_lat_lon(da):\n",
    "        if 'g0_lon_2' in da.dims:\n",
    "            return da.rename({'g0_lon_2':'lon', 'g0_lat_1': 'lat'})\n",
    "        elif 'g0_lon_3' in da.dims:\n",
    "            return da.rename({'g0_lon_3':'lon', 'g0_lat_2': 'lat'})\n",
    "        else: return da\n",
    "\n",
    "    return ds.apply(_rename_lat_lon)\n",
    "\n",
    "jra_sfc_variables = {'TPRAT_GDS0_SFC': 'precip',\n",
    "                     'TMAX_GDS4_HTGL': 't_ref_max',\n",
    "                     'UGRD_GDS0_HTGL': 'u_ref',\n",
    "                     'VGRD_GDS0_HTGL': 'v_ref'}\n",
    "\n",
    "jra_sfc = my.open_zarr(\n",
    "    f'{data_path}/surface_daily.zarr', \n",
    "    variables=jra_sfc_variables.keys(),\n",
    "    region=AUSTRALIA_MASK_jragrid,\n",
    "    preprocess=preprocess).rename(\n",
    "    {**jra_sfc_variables, 'initial_time0_hours': 'time'})\n",
    "\n",
    "jra_iso_variables = {'RH_GDS0_ISBL': 'rh'}\n",
    "\n",
    "jra_iso = my.open_zarr(\n",
    "    f'{data_path}/isobaric_daily.zarr', \n",
    "    variables=jra_iso_variables.keys(),\n",
    "    region=AUSTRALIA_MASK_jragrid,\n",
    "    preprocess=preprocess).rename(\n",
    "    {**jra_iso_variables, 'initial_time0_hours': 'time'})"
   ]
  },
  {
   "cell_type": "markdown",
   "metadata": {},
   "source": [
    "### Process precip"
   ]
  },
  {
   "cell_type": "code",
   "execution_count": 6,
   "metadata": {},
   "outputs": [],
   "source": [
    "jra_precip = jra_sfc['precip']\n",
    "jra_precip = jra_precip.chunk({'time':-1})\n",
    "jra_precip = my.to_zarr(\n",
    "    jra_precip, f'data/JRA-55_precip_jragrid.zarr', clobber=clobber)\n",
    "\n",
    "jra_precip_20d = jra_precip.rolling(time=20).sum().rename('precip_20d')\n",
    "jra_precip_20d = jra_precip_20d.chunk({'time':-1})\n",
    "jra_precip_20d = my.to_zarr(\n",
    "    jra_precip_20d, f'data/JRA-55_precip-20d-accl_jragrid.zarr', clobber=clobber)\n",
    "\n",
    "jra_df = my.calc_drought_factor(jra_precip_20d, dim='time').rename('drought_factor')\n",
    "jra_df = jra_df.chunk({'time':-1})\n",
    "jra_df = my.to_zarr(\n",
    "    jra_df, f'data/JRA-55_drought-factor_jragrid.zarr', clobber=clobber)"
   ]
  },
  {
   "cell_type": "markdown",
   "metadata": {},
   "source": [
    "### Process t_ref_max"
   ]
  },
  {
   "cell_type": "code",
   "execution_count": 7,
   "metadata": {},
   "outputs": [],
   "source": [
    "jra_tmax = jra_sfc['t_ref_max'] - 273.15 # [C]\n",
    "jra_tmax = jra_tmax.chunk({'time':-1})\n",
    "jra_tmax = my.to_zarr(\n",
    "    jra_tmax, f'data/JRA-55_tmax_jragrid.zarr', clobber=clobber)"
   ]
  },
  {
   "cell_type": "markdown",
   "metadata": {},
   "source": [
    "### Process V_ref"
   ]
  },
  {
   "cell_type": "code",
   "execution_count": 8,
   "metadata": {},
   "outputs": [],
   "source": [
    "jra_uref = jra_sfc['u_ref'] * 3.6 # [km/h]\n",
    "jra_vref = jra_sfc['v_ref'] * 3.6 # [km/h]\n",
    "jra_Vref = np.sqrt(jra_uref ** 2 + jra_vref ** 2).rename('V_ref')\n",
    "jra_Vref = jra_Vref.chunk({'time':-1})\n",
    "jra_Vref = my.to_zarr(\n",
    "    jra_Vref, f'data/JRA-55_Vref_jragrid.zarr', clobber=clobber)"
   ]
  },
  {
   "cell_type": "markdown",
   "metadata": {},
   "source": [
    "## Process rh"
   ]
  },
  {
   "cell_type": "code",
   "execution_count": 9,
   "metadata": {},
   "outputs": [],
   "source": [
    "jra_rh = jra_iso['rh'].sel(lv_ISBL1=1000.)\n",
    "jra_rh = jra_rh.chunk({'time':-1})\n",
    "jra_rh = my.to_zarr(\n",
    "    jra_rh, f'data/JRA-55_rh_jragrid.zarr', clobber=clobber)"
   ]
  },
  {
   "cell_type": "markdown",
   "metadata": {},
   "source": [
    "## Process FFDI"
   ]
  },
  {
   "cell_type": "code",
   "execution_count": 10,
   "metadata": {},
   "outputs": [],
   "source": [
    "jra_FFDI = my.calc_FFDI(jra_df, jra_tmax, jra_rh, jra_Vref)\n",
    "jra_FFDI = jra_FFDI.chunk({'time':-1})\n",
    "jra_FFDI = my.to_zarr(\n",
    "    jra_FFDI, f'data/JRA-55_FFDI_jragrid.zarr', clobber=clobber)\n",
    "\n",
    "jra_FFDI_DEC = my.calc_DEC_average(jra_FFDI).rename('FFDI_DEC')\n",
    "jra_FFDI_DEC = my.to_zarr(\n",
    "    jra_FFDI_DEC, f'data/JRA-55_FFDI-DEC-mean_jragrid.zarr', clobber=clobber)"
   ]
  },
  {
   "cell_type": "markdown",
   "metadata": {},
   "source": [
    "## Figure for reviewer: delete me"
   ]
  },
  {
   "cell_type": "code",
   "execution_count": 199,
   "metadata": {},
   "outputs": [
    {
     "data": {
      "image/png": "[encoded data removed]",
      "text/plain": [
       "<Figure size 360x216 with 2 Axes>"
      ]
     },
     "metadata": {
      "needs_background": "light"
     },
     "output_type": "display_data"
    }
   ],
   "source": [
    "import cartopy\n",
    "import cartopy.crs as ccrs\n",
    "\n",
    "import matplotlib\n",
    "cmap = matplotlib.colors.LinearSegmentedColormap.from_list(\"\", [\"C0\"]+[\"C2\"]+[\"C3\"]+[\"C8\"])\n",
    "\n",
    "cartopy.config['pre_existing_data_dir'] = '/g/data/v14/ds0092/data/cartopy-data'\n",
    "cartopy.config['data_dir'] = '/g/data/v14/ds0092/data/cartopy-data'\n",
    "\n",
    "period = slice(None, '2016')\n",
    "\n",
    "jra_FFDI_period = jra_FFDI.sel(time=period)\n",
    "\n",
    "p90 = jra_FFDI_period.quantile(q=0.9, dim='time').compute()\n",
    "gt_p90_Dec = jra_FFDI_period.where(jra_FFDI_period.time.dt.month == 12, drop=True) > p90\n",
    "n_days_gt_p90_Dec = 31*gt_p90_Dec.mean('time').where(AUSTRALIA_MASK_jragrid)\n",
    "\n",
    "figsize = (5,3)\n",
    "\n",
    "fig = plt.figure(figsize=figsize, edgecolor='k')\n",
    "ax = fig.add_subplot(111, projection=ccrs.PlateCarree(180))\n",
    "    \n",
    "p = n_days_gt_p90_Dec.plot(levels=17, transform=ccrs.PlateCarree(), \n",
    "                           cmap=cmap, vmin=0, vmax=16, add_colorbar=False)\n",
    "\n",
    "p.axes.coastlines(color='w', linewidth=1.5)\n",
    "p.axes.coastlines(color='k', linewidth=1)\n",
    "\n",
    "region = [112, 154.5, -44, -9]\n",
    "ax.set_extent(region, ccrs.PlateCarree())\n",
    "ax.set_title('')\n",
    "\n",
    "cbar = fig.colorbar(p, ticks=range(0,18,2))\n",
    "cbar.ax.set_yticklabels(range(0,18,2), fontsize=8);\n",
    "\n",
    "fig.savefig(f'./figures/n_Dec_days_gt_p90.pdf', format='pdf', \n",
    "            bbox_inches='tight')"
   ]
  },
  {
   "cell_type": "markdown",
   "metadata": {},
   "source": [
    "--------\n",
    "# Prepare AWAP data on cafe grid over Australia and our region"
   ]
  },
  {
   "cell_type": "code",
   "execution_count": 20,
   "metadata": {},
   "outputs": [],
   "source": [
    "data_path = '/g/data/xv83/observations/AWAP'"
   ]
  },
  {
   "cell_type": "code",
   "execution_count": 21,
   "metadata": {},
   "outputs": [],
   "source": [
    "awap_precip = my.open_zarr(\n",
    "    f'{data_path}/rain_day_19000101-20210425_cafe-grid.zarr', \n",
    "    variables=['precip'],\n",
    "    region=AUSTRALIA_MASK_cafegrid,\n",
    "    preprocess=my.truncate_latitudes)['precip']\n",
    "awap_precip = awap_precip.chunk({'time':-1})\n",
    "awap_precip = my.to_zarr(\n",
    "    awap_precip, f'data/AWAP_precip_cafegrid.zarr', clobber=clobber)\n",
    "\n",
    "awap_precip_ann = my.calc_ANN_accum(awap_precip).rename('precip_ann')\n",
    "awap_precip_ann = awap_precip_ann.chunk({'time':-1})\n",
    "awap_precip_ann = my.to_zarr(\n",
    "    awap_precip_ann, f'data/AWAP_precip-annDEC-accl_cafegrid.zarr', clobber=clobber)\n",
    "\n",
    "awap_precip_ann_reg = awap_precip_ann.where(\n",
    "    REGION_MASK, drop=True).weighted(cafe_area).mean(['lat','lon'])\n",
    "awap_precip_ann_reg = my.to_zarr(\n",
    "    awap_precip_ann_reg, f'data/AWAP_precip-annDEC-accl_region.zarr', clobber=clobber)"
   ]
  },
  {
   "cell_type": "markdown",
   "metadata": {},
   "source": [
    "--------\n",
    "# Prepare AWAP data on JRA-55 grid over Australia"
   ]
  },
  {
   "cell_type": "code",
   "execution_count": 23,
   "metadata": {},
   "outputs": [],
   "source": [
    "data_path = '/g/data/xv83/observations/AWAP'"
   ]
  },
  {
   "cell_type": "code",
   "execution_count": 24,
   "metadata": {
    "tags": []
   },
   "outputs": [],
   "source": [
    "awap_precip = my.open_zarr(\n",
    "    f'{data_path}/rain_day_19000101-20210425_jra-grid.zarr', \n",
    "    variables=['precip'],\n",
    "    region=AUSTRALIA_MASK_jragrid)['precip']\n",
    "awap_precip = awap_precip.chunk({'time': 365})\n",
    "awap_precip = my.to_zarr(\n",
    "    awap_precip, f'data/AWAP_precip_jragrid.zarr', clobber=clobber)\n",
    "\n",
    "awap_precip_ann = my.calc_ANN_accum(awap_precip).rename('precip_ann')\n",
    "awap_precip_ann = awap_precip_ann.chunk({'time':-1})\n",
    "awap_precip_ann = my.to_zarr(\n",
    "    awap_precip_ann, f'data/AWAP_precip-annDEC-accl_jragrid.zarr', clobber=clobber)"
   ]
  },
  {
   "cell_type": "markdown",
   "metadata": {},
   "source": [
    "--------\n",
    "# Prepare AWAP data on native grid over Australia"
   ]
  },
  {
   "cell_type": "code",
   "execution_count": 25,
   "metadata": {},
   "outputs": [],
   "source": [
    "data_path = '/g/data/xv83/observations/AWAP'"
   ]
  },
  {
   "cell_type": "code",
   "execution_count": 26,
   "metadata": {
    "tags": []
   },
   "outputs": [],
   "source": [
    "awap_precip = my.open_zarr(\n",
    "    f'{data_path}/rain_day_19000101-20210425.zarr', \n",
    "    variables=['precip'],\n",
    "    region=AUSTRALIA_MASK_awapgrid)['precip']\n",
    "awap_precip = my.to_zarr(\n",
    "    awap_precip, f'data/AWAP_precip_awapgrid.zarr', clobber=clobber)\n",
    "\n",
    "awap_precip_ann = my.calc_ANN_accum(awap_precip).rename('precip_ann')\n",
    "awap_precip_ann = awap_precip_ann.chunk({'time':-1})\n",
    "awap_precip_ann = my.to_zarr(\n",
    "    awap_precip_ann, f'data/AWAP_precip-annDEC-accl_awapgrid.zarr', clobber=clobber)"
   ]
  },
  {
   "cell_type": "markdown",
   "metadata": {},
   "source": [
    "--------\n",
    "# Prepare CAFE-f6 forecast data"
   ]
  },
  {
   "cell_type": "code",
   "execution_count": 5,
   "metadata": {},
   "outputs": [],
   "source": [
    "fcst_paths = sorted(\n",
    "    glob.glob('/g/data/xv83/dcfp/CAFE-f6/c5-d60-pX-f6*/atmos_isobaric_daily.zarr.zip')\n",
    ")[-32:]"
   ]
  },
  {
   "cell_type": "code",
   "execution_count": 6,
   "metadata": {},
   "outputs": [
    {
     "data": {
      "text/plain": [
       "['/g/data/xv83/dcfp/CAFE-f6/c5-d60-pX-f6-20050501/atmos_isobaric_daily.zarr.zip',\n",
       " '/g/data/xv83/dcfp/CAFE-f6/c5-d60-pX-f6-20051101/atmos_isobaric_daily.zarr.zip',\n",
       " '/g/data/xv83/dcfp/CAFE-f6/c5-d60-pX-f6-20060501/atmos_isobaric_daily.zarr.zip',\n",
       " '/g/data/xv83/dcfp/CAFE-f6/c5-d60-pX-f6-20061101/atmos_isobaric_daily.zarr.zip',\n",
       " '/g/data/xv83/dcfp/CAFE-f6/c5-d60-pX-f6-20070501/atmos_isobaric_daily.zarr.zip',\n",
       " '/g/data/xv83/dcfp/CAFE-f6/c5-d60-pX-f6-20071101/atmos_isobaric_daily.zarr.zip',\n",
       " '/g/data/xv83/dcfp/CAFE-f6/c5-d60-pX-f6-20080501/atmos_isobaric_daily.zarr.zip',\n",
       " '/g/data/xv83/dcfp/CAFE-f6/c5-d60-pX-f6-20081101/atmos_isobaric_daily.zarr.zip',\n",
       " '/g/data/xv83/dcfp/CAFE-f6/c5-d60-pX-f6-20090501/atmos_isobaric_daily.zarr.zip',\n",
       " '/g/data/xv83/dcfp/CAFE-f6/c5-d60-pX-f6-20091101/atmos_isobaric_daily.zarr.zip',\n",
       " '/g/data/xv83/dcfp/CAFE-f6/c5-d60-pX-f6-20100501/atmos_isobaric_daily.zarr.zip',\n",
       " '/g/data/xv83/dcfp/CAFE-f6/c5-d60-pX-f6-20101101/atmos_isobaric_daily.zarr.zip',\n",
       " '/g/data/xv83/dcfp/CAFE-f6/c5-d60-pX-f6-20110501/atmos_isobaric_daily.zarr.zip',\n",
       " '/g/data/xv83/dcfp/CAFE-f6/c5-d60-pX-f6-20111101/atmos_isobaric_daily.zarr.zip',\n",
       " '/g/data/xv83/dcfp/CAFE-f6/c5-d60-pX-f6-20120501/atmos_isobaric_daily.zarr.zip',\n",
       " '/g/data/xv83/dcfp/CAFE-f6/c5-d60-pX-f6-20121101/atmos_isobaric_daily.zarr.zip',\n",
       " '/g/data/xv83/dcfp/CAFE-f6/c5-d60-pX-f6-20130501/atmos_isobaric_daily.zarr.zip',\n",
       " '/g/data/xv83/dcfp/CAFE-f6/c5-d60-pX-f6-20131101/atmos_isobaric_daily.zarr.zip',\n",
       " '/g/data/xv83/dcfp/CAFE-f6/c5-d60-pX-f6-20140501/atmos_isobaric_daily.zarr.zip',\n",
       " '/g/data/xv83/dcfp/CAFE-f6/c5-d60-pX-f6-20141101/atmos_isobaric_daily.zarr.zip',\n",
       " '/g/data/xv83/dcfp/CAFE-f6/c5-d60-pX-f6-20150501/atmos_isobaric_daily.zarr.zip',\n",
       " '/g/data/xv83/dcfp/CAFE-f6/c5-d60-pX-f6-20151101/atmos_isobaric_daily.zarr.zip',\n",
       " '/g/data/xv83/dcfp/CAFE-f6/c5-d60-pX-f6-20160501/atmos_isobaric_daily.zarr.zip',\n",
       " '/g/data/xv83/dcfp/CAFE-f6/c5-d60-pX-f6-20161101/atmos_isobaric_daily.zarr.zip',\n",
       " '/g/data/xv83/dcfp/CAFE-f6/c5-d60-pX-f6-20170501/atmos_isobaric_daily.zarr.zip',\n",
       " '/g/data/xv83/dcfp/CAFE-f6/c5-d60-pX-f6-20171101/atmos_isobaric_daily.zarr.zip',\n",
       " '/g/data/xv83/dcfp/CAFE-f6/c5-d60-pX-f6-20180501/atmos_isobaric_daily.zarr.zip',\n",
       " '/g/data/xv83/dcfp/CAFE-f6/c5-d60-pX-f6-20181101/atmos_isobaric_daily.zarr.zip',\n",
       " '/g/data/xv83/dcfp/CAFE-f6/c5-d60-pX-f6-20190501/atmos_isobaric_daily.zarr.zip',\n",
       " '/g/data/xv83/dcfp/CAFE-f6/c5-d60-pX-f6-20191101/atmos_isobaric_daily.zarr.zip',\n",
       " '/g/data/xv83/dcfp/CAFE-f6/c5-d60-pX-f6-20200501/atmos_isobaric_daily.zarr.zip',\n",
       " '/g/data/xv83/dcfp/CAFE-f6/c5-d60-pX-f6-20201101/atmos_isobaric_daily.zarr.zip']"
      ]
     },
     "execution_count": 6,
     "metadata": {},
     "output_type": "execute_result"
    }
   ],
   "source": [
    "fcst_paths"
   ]
  },
  {
   "cell_type": "code",
   "execution_count": 7,
   "metadata": {},
   "outputs": [],
   "source": [
    "def preprocess(ds):\n",
    "    return my.truncate_latitudes(ds).sel({'level': 1000.0})\n",
    "\n",
    "fcst_variables = ['precip', 't_ref_max', 'u_ref', 'v_ref', 'rh']\n",
    "\n",
    "f6_stacked = my.open_zarr_forecasts(\n",
    "    fcst_paths,\n",
    "    variables=fcst_variables,\n",
    "    region=REGION_MASK,\n",
    "    preprocess=preprocess)\n",
    "\n",
    "# Fill nans in time that come about due to leap years\n",
    "f6_stacked = my.interpolate_na_times(f6_stacked)\n",
    "\n",
    "f6_stacked = f6_stacked.chunk({'init_date':-1, 'lead_time': -1})"
   ]
  },
  {
   "cell_type": "markdown",
   "metadata": {},
   "source": [
    "### Process precip"
   ]
  },
  {
   "cell_type": "code",
   "execution_count": 10,
   "metadata": {},
   "outputs": [],
   "source": [
    "f6_precip_stacked = f6_stacked['precip'] * 86400\n",
    "f6_precip_stacked = my.to_zarr(\n",
    "    f6_precip_stacked, f'data/CAFE-f6_precip-stacked.zarr', clobber=clobber)\n",
    "\n",
    "f6_precip_20d_stacked = f6_precip_stacked.rolling(\n",
    "    lead_time=20).sum().rename('precip_20d').chunk(f6_precip_stacked.chunks)\n",
    "f6_precip_20d_stacked = my.to_zarr(\n",
    "    f6_precip_20d_stacked, f'data/CAFE-f6_precip-20d-accl-stacked.zarr', clobber=clobber)\n",
    "\n",
    "f6_df_stacked = my.calc_drought_factor(\n",
    "    f6_precip_20d_stacked, \n",
    "    dim=['init_date', 'lead_time','ensemble']).rename('drought_factor')\n",
    "f6_df_stacked = my.to_zarr(\n",
    "    f6_df_stacked, f'data/CAFE-f6_drought-factor-stacked.zarr', clobber=clobber)\n",
    "\n",
    "f6_precip = my.reindex_forecast(f6_precip_stacked)\n",
    "f6_precip_ann = my.calc_ANN_accum(f6_precip).rename('precip_ann')\n",
    "f6_precip_ann = f6_precip_ann.chunk({'init_date':-1, 'time': -1})\n",
    "f6_precip_ann = my.to_zarr(\n",
    "    f6_precip_ann, f'data/CAFE-f6_precip-annDEC-accl.zarr', clobber=clobber)\n",
    "\n",
    "f6_precip_ann_reg = f6_precip_ann.weighted(cafe_area).mean(['lat','lon'])\n",
    "f6_precip_ann_reg = my.to_zarr(\n",
    "    f6_precip_ann_reg, f'data/CAFE-f6_precip-annDEC-accl_region.zarr', clobber=clobber)"
   ]
  },
  {
   "cell_type": "markdown",
   "metadata": {},
   "source": [
    "### Process t_ref_max"
   ]
  },
  {
   "cell_type": "code",
   "execution_count": 12,
   "metadata": {},
   "outputs": [],
   "source": [
    "f6_tmax_stacked = f6_stacked['t_ref_max'] - 273.15 # [C]\n",
    "f6_tmax_stacked = my.to_zarr(\n",
    "    f6_tmax_stacked, f'data/CAFE-f6_tmax-stacked.zarr', clobber=clobber)"
   ]
  },
  {
   "cell_type": "markdown",
   "metadata": {},
   "source": [
    "### Process V_ref"
   ]
  },
  {
   "cell_type": "code",
   "execution_count": 13,
   "metadata": {},
   "outputs": [],
   "source": [
    "f6_uref_stacked = f6_stacked['u_ref'] * 3.6 # [km/h]\n",
    "f6_uref_stacked = my.to_zarr(\n",
    "    f6_uref_stacked, f'data/CAFE-f6_uref-stacked.zarr', clobber=clobber)\n",
    "\n",
    "f6_vref_stacked = f6_stacked['v_ref'] * 3.6 # [km/h]\n",
    "f6_vref_stacked = my.to_zarr(\n",
    "    f6_vref_stacked, f'data/CAFE-f6_vref-stacked.zarr', clobber=clobber)\n",
    "\n",
    "f6_Vref_stacked = np.sqrt( f6_uref_stacked ** 2 + f6_vref_stacked ** 2 ).rename('V_ref')\n",
    "f6_Vref_stacked = my.to_zarr(\n",
    "    f6_Vref_stacked, f'data/CAFE-f6_Vref-stacked.zarr', clobber=clobber)"
   ]
  },
  {
   "cell_type": "markdown",
   "metadata": {},
   "source": [
    "### Process rh"
   ]
  },
  {
   "cell_type": "code",
   "execution_count": 20,
   "metadata": {},
   "outputs": [],
   "source": [
    "f6_rh_stacked = f6_stacked['rh'] # [%]\n",
    "f6_rh_stacked = my.to_zarr(\n",
    "    f6_rh_stacked, f'data/CAFE-f6_rh-stacked.zarr', clobber=clobber)"
   ]
  },
  {
   "cell_type": "markdown",
   "metadata": {},
   "source": [
    "### Process FFDI"
   ]
  },
  {
   "cell_type": "code",
   "execution_count": 21,
   "metadata": {},
   "outputs": [],
   "source": [
    "f6_FFDI_stacked = my.calc_FFDI(f6_df_stacked, f6_tmax_stacked, f6_rh_stacked, f6_Vref_stacked)\n",
    "f6_FFDI = my.reindex_forecast(f6_FFDI_stacked)\n",
    "f6_FFDI = f6_FFDI.chunk({'init_date': 5, 'time': -1})\n",
    "f6_FFDI = my.to_zarr(\n",
    "    f6_FFDI, f'data/CAFE-f6_FFDI.zarr', clobber=clobber)\n",
    "\n",
    "f6_FFDI_DEC = my.calc_DEC_average(f6_FFDI).rename('FFDI_DEC')\n",
    "f6_FFDI_DEC = f6_FFDI_DEC.chunk({'init_date': -1, 'time': -1})\n",
    "f6_FFDI_DEC = my.to_zarr(\n",
    "    f6_FFDI_DEC, f'data/CAFE-f6_FFDI-DEC-mean.zarr', clobber=clobber)\n",
    "\n",
    "f6_FFDI_DEC_reg = f6_FFDI_DEC.weighted(cafe_area).mean(['lat','lon'])\n",
    "f6_FFDI_DEC_reg = my.to_zarr(\n",
    "    f6_FFDI_DEC_reg, f'data/CAFE-f6_FFDI-DEC-mean_region.zarr', clobber=clobber)"
   ]
  },
  {
   "cell_type": "markdown",
   "metadata": {},
   "source": [
    "--------\n",
    "# Prepare CAFE-f5 forecast data"
   ]
  },
  {
   "cell_type": "code",
   "execution_count": 38,
   "metadata": {},
   "outputs": [],
   "source": [
    "fcst_paths_MAY = sorted(\n",
    "    glob.glob('/g/data/xv83/dcfp/CAFE-f5/MAY/c5-d60-pX-f5*/atmos_isobaric_daily.zarr.zip')\n",
    ")\n",
    "fcst_path_NOV = '/g/data/xv83/dcfp/CAFE-f5/NOV/atmos_isobaric_daily.zarr.zip'"
   ]
  },
  {
   "cell_type": "code",
   "execution_count": 39,
   "metadata": {},
   "outputs": [],
   "source": [
    "def preprocess(ds):\n",
    "    return my.truncate_latitudes(ds).sel({'level': 1000.0})\n",
    "\n",
    "fcst_variables = ['precip', 't_ref_max', 'u_ref', 'v_ref', 'rh']\n",
    "\n",
    "f5_MAY_stacked = my.open_zarr_forecasts(\n",
    "    fcst_paths_MAY,\n",
    "    variables=fcst_variables,\n",
    "    region=REGION_MASK,\n",
    "    preprocess=preprocess,\n",
    "    convert_time_to_lead=True)\n",
    "\n",
    "f5_NOV_stacked = my.open_zarr(\n",
    "    fcst_path_NOV, \n",
    "    variables=fcst_variables,\n",
    "    region=REGION_MASK,\n",
    "    preprocess=preprocess)\n",
    "\n",
    "f6_append = f6_stacked.sel(\n",
    "    init_date=slice('2005', None), \n",
    "    ensemble=range(1,11))\n",
    "\n",
    "f5_stacked = xr.concat(\n",
    "    [f5_MAY_stacked.sel(init_date=slice('1980', '2004')).chunk({'init_date': 1}), \n",
    "     f5_NOV_stacked.sel(init_date=slice('1980', '2004')).chunk({'init_date': 1}),\n",
    "     f6_append.chunk({'init_date': -1})], # Dask keeps hanging on the last few tasks. Playing with chunking here helps\n",
    "    dim='init_date', coords='minimal', compat='override').sortby('init_date')\n",
    "\n",
    "# Fill nans in time that come about due to leap years\n",
    "f5_stacked = my.interpolate_na_times(f5_stacked)\n",
    "\n",
    "f5_stacked = f5_stacked.chunk({'init_date':-1, 'lead_time': -1})"
   ]
  },
  {
   "cell_type": "markdown",
   "metadata": {},
   "source": [
    "### Process precip"
   ]
  },
  {
   "cell_type": "code",
   "execution_count": 40,
   "metadata": {},
   "outputs": [],
   "source": [
    "f5_precip_stacked = f5_stacked['precip'] * 86400\n",
    "f5_precip_stacked = my.to_zarr(\n",
    "    f5_precip_stacked, f'data/CAFE-f5_precip.zarr', clobber=clobber)\n",
    "\n",
    "f5_precip_20d_stacked = f5_precip_stacked.rolling(\n",
    "    lead_time=20).sum().rename('precip_20d').chunk(f5_precip_stacked.chunks)\n",
    "f5_precip_20d_stacked = my.to_zarr(\n",
    "    f5_precip_20d_stacked, f'data/CAFE-f5_precip-20d-accl-stacked.zarr', clobber=clobber)\n",
    "\n",
    "f5_df_stacked = my.calc_drought_factor(\n",
    "    f5_precip_20d_stacked, \n",
    "    dim=['init_date', 'lead_time','ensemble']).rename('drought_factor')\n",
    "f5_df_stacked = my.to_zarr(\n",
    "    f5_df_stacked, f'data/CAFE-f5_drought-factor-stacked.zarr', clobber=clobber)\n",
    "\n",
    "f5_precip = my.reindex_forecast(f5_precip_stacked)\n",
    "f5_precip_ann = my.calc_ANN_accum(f5_precip).rename('precip_ann')\n",
    "f5_precip_ann = f5_precip_ann.chunk({'init_date':-1, 'time': -1})\n",
    "f5_precip_ann = my.to_zarr(\n",
    "    f5_precip_ann, f'data/CAFE-f5_precip-annDEC-accl.zarr', clobber=clobber)\n",
    "\n",
    "f5_precip_ann_reg = f5_precip_ann.weighted(cafe_area).mean(['lat','lon'])\n",
    "f5_precip_ann_reg = my.to_zarr(\n",
    "    f5_precip_ann_reg, f'data/CAFE-f5_precip-annDEC-accl_region.zarr', clobber=clobber)"
   ]
  },
  {
   "cell_type": "markdown",
   "metadata": {},
   "source": [
    "### Process t_ref_max"
   ]
  },
  {
   "cell_type": "code",
   "execution_count": 42,
   "metadata": {},
   "outputs": [],
   "source": [
    "f5_tmax_stacked = f5_stacked['t_ref_max'] - 273.15 # [C]\n",
    "f5_tmax_stacked = my.to_zarr(\n",
    "    f5_tmax_stacked, f'data/CAFE-f5_tmax-stacked.zarr', clobber=clobber)"
   ]
  },
  {
   "cell_type": "markdown",
   "metadata": {},
   "source": [
    "### Process V_ref"
   ]
  },
  {
   "cell_type": "code",
   "execution_count": 43,
   "metadata": {},
   "outputs": [],
   "source": [
    "f5_uref_stacked = f5_stacked['u_ref'] * 3.6 # [km/h]\n",
    "f5_uref_stacked = my.to_zarr(\n",
    "    f5_uref_stacked, f'data/CAFE-f5_uref-stacked.zarr', clobber=clobber)\n",
    "\n",
    "f5_vref_stacked = f5_stacked['v_ref'] * 3.6 # [km/h]\n",
    "f5_vref_stacked = my.to_zarr(\n",
    "    f5_vref_stacked, f'data/CAFE-f5_vref-stacked.zarr', clobber=clobber)\n",
    "\n",
    "f5_Vref_stacked = np.sqrt( f5_uref_stacked ** 2 + f5_vref_stacked ** 2 ).rename('V_ref')\n",
    "f5_Vref_stacked = my.to_zarr(\n",
    "    f5_Vref_stacked, f'data/CAFE-f5_Vref-stacked.zarr', clobber=clobber)"
   ]
  },
  {
   "cell_type": "markdown",
   "metadata": {},
   "source": [
    "### Process rh"
   ]
  },
  {
   "cell_type": "code",
   "execution_count": 44,
   "metadata": {},
   "outputs": [],
   "source": [
    "f5_rh_stacked = f5_stacked['rh'] # [%]\n",
    "f5_rh_stacked = my.to_zarr(\n",
    "    f5_rh_stacked, f'data/CAFE-f5_rh-stacked.zarr', clobber=clobber)"
   ]
  },
  {
   "cell_type": "markdown",
   "metadata": {},
   "source": [
    "### Process FFDI"
   ]
  },
  {
   "cell_type": "code",
   "execution_count": 45,
   "metadata": {},
   "outputs": [],
   "source": [
    "f5_FFDI_stacked = my.calc_FFDI(f5_df_stacked, f5_tmax_stacked, f5_rh_stacked, f5_Vref_stacked)\n",
    "f5_FFDI = my.reindex_forecast(f5_FFDI_stacked)\n",
    "f5_FFDI = f5_FFDI.chunk({'init_date':10, 'time': -1})\n",
    "f5_FFDI = my.to_zarr(\n",
    "    f5_FFDI, f'data/CAFE-f5_FFDI.zarr', clobber=clobber)\n",
    "\n",
    "f5_FFDI_DEC = my.calc_DEC_average(f5_FFDI).rename('FFDI_DEC')\n",
    "f5_FFDI_DEC = f5_FFDI_DEC.chunk({'init_date':-1, 'time': -1})\n",
    "f5_FFDI_DEC = my.to_zarr(\n",
    "    f5_FFDI_DEC, f'data/CAFE-f5_FFDI-DEC-mean.zarr', clobber=clobber)\n",
    "\n",
    "f5_FFDI_DEC_reg = f5_FFDI_DEC.weighted(cafe_area).mean(['lat','lon'])\n",
    "f5_FFDI_DEC_reg = my.to_zarr(\n",
    "    f5_FFDI_DEC_reg, f'data/CAFE-f5_FFDI-DEC-mean_region.zarr', clobber=clobber)"
   ]
  },
  {
   "cell_type": "markdown",
   "metadata": {},
   "source": [
    "--------\n",
    "# End notebook"
   ]
  },
  {
   "cell_type": "code",
   "execution_count": 47,
   "metadata": {},
   "outputs": [],
   "source": [
    "cluster.close()\n",
    "client.close()"
   ]
  },
  {
   "cell_type": "code",
   "execution_count": null,
   "metadata": {},
   "outputs": [],
   "source": []
  }
 ],
 "metadata": {
  "kernelspec": {
   "display_name": "Python 3",
   "language": "python",
   "name": "python3"
  },
  "language_info": {
   "codemirror_mode": {
    "name": "ipython",
    "version": 3
   },
   "file_extension": ".py",
   "mimetype": "text/x-python",
   "name": "python",
   "nbconvert_exporter": "python",
   "pygments_lexer": "ipython3",
   "version": "3.9.4"
  }
 },
 "nbformat": 4,
 "nbformat_minor": 4
}
