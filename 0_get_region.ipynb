{
 "cells": [
  {
   "cell_type": "markdown",
   "metadata": {},
   "source": [
    "# Create a mask for the region of interest and make a plot of the region \n",
    "\n",
    "### Time taken: ~ 2 mins\n",
    "\n",
    "#### This notebook includes the creation of Fig 1\n",
    "------"
   ]
  },
  {
   "cell_type": "code",
   "execution_count": 1,
   "metadata": {},
   "outputs": [],
   "source": [
    "import numpy as np\n",
    "import xarray as xr\n",
    "\n",
    "import regionmask\n",
    "\n",
    "import myfuncs as my\n",
    "\n",
    "import matplotlib\n",
    "from matplotlib import cm\n",
    "import matplotlib.pyplot as plt\n",
    "import matplotlib.patches as mpatches\n",
    "import cartopy\n",
    "import cartopy.crs as ccrs\n",
    "import cartopy.io.shapereader as shpreader\n",
    "\n",
    "import warnings\n",
    "warnings.filterwarnings(\"ignore\")"
   ]
  },
  {
   "cell_type": "code",
   "execution_count": 2,
   "metadata": {},
   "outputs": [],
   "source": [
    "cartopy.config['pre_existing_data_dir'] = '/g/data/v14/ds0092/data/cartopy-data'\n",
    "cartopy.config['data_dir'] = '/g/data/v14/ds0092/data/cartopy-data'"
   ]
  },
  {
   "cell_type": "markdown",
   "metadata": {},
   "source": [
    "--------\n",
    "## Load burned area data"
   ]
  },
  {
   "cell_type": "code",
   "execution_count": 3,
   "metadata": {},
   "outputs": [],
   "source": [
    "def preprocess(ds):\n",
    "    for drop in ['crs','time_bounds','lat_bounds','lon_bounds','number_of_patches']:\n",
    "        if drop in ds:\n",
    "            ds = ds.drop(drop)\n",
    "    return ds.assign_coords({'vegetation_class': vegetation_class})"
   ]
  },
  {
   "cell_type": "code",
   "execution_count": 4,
   "metadata": {},
   "outputs": [],
   "source": [
    "data_path = '/g/data/xv83'\n",
    "vegetation_class = xr.open_dataset(\n",
    "    f'{data_path}/observations/CCI_fire/20200101-C3S-L4_FIRE-BA-OLCI-fv1.0.nc')['vegetation_class']\n",
    "CCI_fire = xr.open_mfdataset(\n",
    "    f'{data_path}/observations/CCI_fire/*.nc', preprocess=preprocess)\n",
    "CCI_fire = CCI_fire.assign_coords({'lon': (CCI_fire['lon'] + 360)  % 360}).sortby('lon')\n",
    "\n",
    "burned_area = CCI_fire['burned_area_in_vegetation_class'].sel(\n",
    "    vegetation_class=50).rename(r'Burned forest area [m$^2$]').compute()\n",
    "\n",
    "cafe_grid = my.open_zarr(\n",
    "    '/g/data/xv83/dcfp/CAFE-f6/c5-d60-pX-f6-20201101/atmos_isobaric_daily.zarr.zip',\n",
    "    preprocess=my.truncate_latitudes)[['lat','lon']]"
   ]
  },
  {
   "cell_type": "markdown",
   "metadata": {},
   "source": [
    "--------\n",
    "## Save region mask"
   ]
  },
  {
   "cell_type": "code",
   "execution_count": 5,
   "metadata": {},
   "outputs": [],
   "source": [
    "def get_region_mask(area, grid, threshold):\n",
    "    \"\"\" Get region mask based on burned area threshold \"\"\"\n",
    "    def aggregate_grid(ds, lat_des, lon_des, lat_name='lat', lon_name='lon'):\n",
    "        def _get_bin_edges(bins):\n",
    "            dbin = np.diff(bins)/2\n",
    "            bin_edges = np.concatenate(([bins[0]-dbin[0]], \n",
    "                                         bins[:-1]+dbin, \n",
    "                                         [bins[-1]+dbin[-1]]))\n",
    "            return bin_edges\n",
    "\n",
    "        lat_edges = _get_bin_edges(lat_des)\n",
    "        lon_edges = _get_bin_edges(lon_des)\n",
    "        lat_in = np.where((lat_edges < max(ds[lat_name].values)) & (lat_edges > min(ds[lat_name].values)))[0]\n",
    "        lon_in = np.where((lon_edges < max(ds[lon_name].values)) & (lon_edges > min(ds[lon_name].values)))[0]\n",
    "        lat_edges = lat_edges[lat_in]\n",
    "        lat_des = lat_des[lat_in[:-1]]\n",
    "        lon_edges = lon_edges[lon_in]\n",
    "        lon_des = lon_des[lon_in[:-1]]\n",
    "\n",
    "        ds_cpy = ds.copy()\n",
    "        ds_sum = ds_cpy.groupby_bins(lon_name, lon_edges, labels=lon_des).sum(lon_name, skipna=False) \\\n",
    "                       .groupby_bins(lat_name, lat_edges, labels=lat_des).sum(lat_name, skipna=False)\n",
    "\n",
    "        return (ds_sum).rename({lon_name+'_bins': lon_name,\n",
    "                                lat_name+'_bins': lat_name})\n",
    "    \n",
    "    area_agg = aggregate_grid(area, grid['lat'].values, grid['lon'].values)\n",
    "    return xr.where(area_agg / grid.area > (threshold/100), 1, 0)"
   ]
  },
  {
   "cell_type": "code",
   "execution_count": 6,
   "metadata": {},
   "outputs": [],
   "source": [
    "burned_area_period = burned_area.sel(time=slice('2019-10','2020-02')).sum('time')\n",
    "area_threshold = 10\n",
    "\n",
    "mask = get_region_mask(burned_area_period, cafe_grid, area_threshold).drop(\n",
    "    ['vegetation_class', 'area', 'zsurf']).rename('region_mask')\n",
    "mask.to_netcdf(f'./data/region_mask.ONDJF.{area_threshold}.nc')"
   ]
  },
  {
   "cell_type": "markdown",
   "metadata": {},
   "source": [
    "## Plot Fig 1 for paper"
   ]
  },
  {
   "cell_type": "code",
   "execution_count": 45,
   "metadata": {},
   "outputs": [],
   "source": [
    "def plot_Fig_1(area, mask, cmap, figsize=(3.5,5.5)):\n",
    "    def plot_mask(mask):\n",
    "        def _plot_patch(lw, col):\n",
    "            for j, i in np.column_stack(np.where(mask)):\n",
    "                ax.add_patch(\n",
    "                    mpatches.Rectangle((mask.lon[i]-180-dlon/2, \n",
    "                                        mask.lat[j]-dlat/2), \n",
    "                                       dlon, dlat,    \n",
    "                                       fill=False, \n",
    "                                       linewidth=lw, \n",
    "                                       snap=False, \n",
    "                                       color=col, \n",
    "                                       zorder=3))\n",
    "        dlon = np.diff(mask.lon)[0]\n",
    "        dlat = np.diff(mask.lat)[0]\n",
    "        _plot_patch(1.5, 'w')\n",
    "        _plot_patch(0.75, 'k')\n",
    "    \n",
    "    Earth_filename = '/g/data/v14/ds0092/data/natural-earth-quick-start/50m_raster/NE1_50M_SR_W/NE1_50M_SR_W.tif'\n",
    "    img = plt.imread(Earth_filename)\n",
    "    \n",
    "    fig = plt.figure(figsize=figsize, edgecolor='k')\n",
    "    ax = fig.add_subplot(111, projection=ccrs.PlateCarree(180))\n",
    "    region = [135, 154, -44, -26]\n",
    "    ax.set_extent(region, ccrs.PlateCarree())\n",
    "    shpfilename = shpreader.natural_earth(resolution='110m',\n",
    "                                          category='cultural',\n",
    "                                          name='admin_0_countries')\n",
    "    reader = shpreader.Reader(shpfilename)\n",
    "    countries = reader.records()\n",
    "    for country in countries:\n",
    "        if country.attributes['ADMIN'] == 'Australia':\n",
    "            ax.add_geometries(country.geometry, ccrs.PlateCarree(),\n",
    "                              facecolor=(0.96,0.96,0.96))\n",
    "    ax.add_feature(cartopy.feature.RIVERS, linewidth=0.75)\n",
    "    \n",
    "    p = area.where(area > 0).plot(ax=ax, transform=ccrs.PlateCarree(),\n",
    "                                  cmap=cmap, \n",
    "                                  cbar_kwargs={'pad': 0.07, 'aspect': 30, 'orientation': 'horizontal', \n",
    "                                               'ticks': np.arange(0, 6.75e8, 0.75e8)}, zorder=2)\n",
    "    \n",
    "    p.axes.coastlines(color='w', linewidth=1.5)\n",
    "    p.axes.coastlines(color=[0.2,0.2,0.2], linewidth=0.75)\n",
    "    ax.set_xticks(np.arange(region[0],region[1]+1,5), crs=ccrs.PlateCarree())\n",
    "    ax.set_yticks(np.arange(region[2],region[3]+1,5), crs=ccrs.PlateCarree())\n",
    "    ax.tick_params(axis=\"y\",direction='in')\n",
    "    ax.tick_params(axis=\"x\",direction='in')\n",
    "    ax.set_xticklabels([])\n",
    "    ax.set_yticklabels([])\n",
    "    gl_lines = ax.gridlines(crs=ccrs.PlateCarree(),\n",
    "                            draw_labels=False,\n",
    "                            linewidth=0, \n",
    "                            color='grey', \n",
    "                            alpha=0.3, \n",
    "                            linestyle='-',\n",
    "                            xlocs=np.arange(region[0],region[1]+1,1),\n",
    "                            ylocs=np.arange(region[2],region[3]+1,1))\n",
    "    gl_labels = ax.gridlines(crs=ccrs.PlateCarree(),\n",
    "                             draw_labels=True,\n",
    "                             linewidth=0, \n",
    "                             color='grey', \n",
    "                             alpha=0.3, \n",
    "                             linestyle='-',\n",
    "                            xlocs=np.arange(region[0],region[1]+1,5),\n",
    "                            ylocs=np.arange(region[2],region[3]+1,5))\n",
    "    gl_labels.xlabels_top = False\n",
    "    gl_labels.ylabels_right=False\n",
    "    gl_labels.xlabel_style = {'fontsize': rc_context['font.size'], \n",
    "                              'color': rc_context['text.color']}\n",
    "    gl_labels.ylabel_style = {'fontsize': rc_context['font.size'], \n",
    "                              'color': rc_context['text.color']}\n",
    "    ax.set_title('')\n",
    "    ax.set_xlabel('')\n",
    "    ax.set_ylabel('')\n",
    "    \n",
    "    plot_mask(mask)\n",
    "    \n",
    "    # Add inset\n",
    "    ax = fig.add_axes([0.15,0.60,0.26,0.16], projection=ccrs.PlateCarree(180))\n",
    "    extent=[111, 156, -46, -8]\n",
    "    ax.set_extent(extent, ccrs.PlateCarree())\n",
    "    ax.imshow(img, origin='upper', transform=ccrs.PlateCarree())\n",
    "    ax.coastlines(color='grey', linewidth=0.5)\n",
    "    ax.plot([region[0], region[1], region[1], region[0], region[0]],\n",
    "            [region[2], region[2], region[3], region[3], region[2]], \n",
    "            color='k', linestyle='--', linewidth=0.75,\n",
    "            transform=ccrs.PlateCarree())\n",
    "    \n",
    "    return fig"
   ]
  },
  {
   "cell_type": "code",
   "execution_count": 46,
   "metadata": {},
   "outputs": [
    {
     "data": {
      "image/png": "[encoded data removed]",
      "text/plain": [
       "<Figure size 252x396 with 3 Axes>"
      ]
     },
     "metadata": {
      "needs_background": "light"
     },
     "output_type": "display_data"
    }
   ],
   "source": [
    "ax_color = 'k'\n",
    "fontsize = 8\n",
    "rc_context = {'axes.edgecolor':ax_color, \n",
    "              'xtick.color':ax_color, \n",
    "              'ytick.color':ax_color,\n",
    "              'axes.labelcolor': ax_color,\n",
    "              'text.color': ax_color,\n",
    "              'font.size': fontsize}\n",
    "\n",
    "with plt.rc_context(rc_context):\n",
    "    fig = plot_Fig_1(burned_area_period, mask, cmap='magma_r', figsize=(3.5,5.5))\n",
    "    \n",
    "fig.savefig(f'./figures/region.pdf', format='pdf', \n",
    "            bbox_inches='tight')"
   ]
  },
  {
   "cell_type": "markdown",
   "metadata": {},
   "source": [
    "--------\n",
    "## Save Australia mask"
   ]
  },
  {
   "cell_type": "code",
   "execution_count": 10,
   "metadata": {},
   "outputs": [],
   "source": [
    "countries = regionmask.defined_regions.natural_earth.countries_110\n",
    "AUS_index = regionmask.defined_regions.natural_earth.countries_110.map_keys(\"Australia\")"
   ]
  },
  {
   "cell_type": "markdown",
   "metadata": {},
   "source": [
    "### On CAFE grid"
   ]
  },
  {
   "cell_type": "code",
   "execution_count": 11,
   "metadata": {},
   "outputs": [],
   "source": [
    "data_path = '/g/data/xv83/dcfp/CAFE-f6/c5-d60-pX-f6-20201101'\n",
    "cafe = my.open_zarr(\n",
    "    f'{data_path}/atmos_isobaric_daily.zarr',\n",
    "    preprocess=my.truncate_latitudes)[['lon','lat']]\n",
    "mask = (countries.mask(cafe['lon'], cafe['lat']) == AUS_index).rename('australia_mask')\n",
    "mask.to_netcdf(f'./data/Aus_mask.cafe_grid.nc')"
   ]
  },
  {
   "cell_type": "markdown",
   "metadata": {},
   "source": [
    "### On JRA-55 grid"
   ]
  },
  {
   "cell_type": "code",
   "execution_count": 12,
   "metadata": {},
   "outputs": [],
   "source": [
    "data_path = '/g/data/xv83/reanalyses/JRA55'\n",
    "jra = my.open_zarr(\n",
    "    f'{data_path}/surface_daily.zarr')[['g0_lon_2','g0_lat_1']]\n",
    "mask = (countries.mask(jra['g0_lon_2'], jra['g0_lat_1']) == AUS_index).rename('australia_mask')\n",
    "mask.to_netcdf(f'./data/Aus_mask.jra_grid.nc')"
   ]
  },
  {
   "cell_type": "markdown",
   "metadata": {},
   "source": [
    "### On AWAP grid"
   ]
  },
  {
   "cell_type": "code",
   "execution_count": 13,
   "metadata": {},
   "outputs": [],
   "source": [
    "data_path = '/g/data/xv83/observations/AWAP'\n",
    "awap = my.open_zarr(\n",
    "    f'{data_path}/rain_day_19000101-20210425.zarr')[['lon','lat']]\n",
    "mask = (countries.mask(awap['lon'], awap['lat']) == AUS_index).rename('australia_mask')\n",
    "mask.to_netcdf(f'./data/Aus_mask.awap_grid.nc')"
   ]
  },
  {
   "cell_type": "markdown",
   "metadata": {},
   "source": [
    "--------\n",
    "# End notebook"
   ]
  },
  {
   "cell_type": "code",
   "execution_count": null,
   "metadata": {},
   "outputs": [],
   "source": []
  }
 ],
 "metadata": {
  "kernelspec": {
   "display_name": "Python 3",
   "language": "python",
   "name": "python3"
  },
  "language_info": {
   "codemirror_mode": {
    "name": "ipython",
    "version": 3
   },
   "file_extension": ".py",
   "mimetype": "text/x-python",
   "name": "python",
   "nbconvert_exporter": "python",
   "pygments_lexer": "ipython3",
   "version": "3.9.4"
  }
 },
 "nbformat": 4,
 "nbformat_minor": 4
}
